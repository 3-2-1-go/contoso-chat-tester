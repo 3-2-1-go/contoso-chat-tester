{
 "cells": [
  {
   "cell_type": "markdown",
   "metadata": {},
   "source": [
    "## 1. Create the compute instance"
   ]
  },
  {
   "cell_type": "code",
   "execution_count": 4,
   "metadata": {},
   "outputs": [
    {
     "name": "stderr",
     "output_type": "stream",
     "text": [
      "Found the config file in: C:\\code\\contoso-chat\\config.json\n"
     ]
    }
   ],
   "source": [
    "# import required libraries\n",
    "import os\n",
    "from azure.ai.ml import MLClient\n",
    "from azure.ai.ml.entities import WorkspaceConnection\n",
    "# Import required libraries\n",
    "from azure.identity import DefaultAzureCredential, InteractiveBrowserCredential\n",
    "\n",
    "# Import required libraries\n",
    "from azure.identity import DefaultAzureCredential, InteractiveBrowserCredential\n",
    "\n",
    "try:\n",
    "    credential = DefaultAzureCredential()\n",
    "    # Check if given credential can get token successfully.\n",
    "    credential.get_token(\"https://management.azure.com/.default\")\n",
    "except Exception as ex:\n",
    "    # Fall back to InteractiveBrowserCredential in case DefaultAzureCredential not work\n",
    "    credential = InteractiveBrowserCredential()\n",
    "\n",
    "from azure.ai.ml.entities import ComputeInstance \n",
    "from azure.ai.ml.entities import CustomApplications, ImageSettings, EndpointsSettings, VolumeSettings \n",
    "\n",
    "ml_client = MLClient.from_config(credential=credential)"
   ]
  },
  {
   "cell_type": "code",
   "execution_count": 5,
   "metadata": {},
   "outputs": [],
   "source": [
    "# create custom application from default promptflow image\n",
    "image = ImageSettings(reference='mcr.microsoft.com/azureml/promptflow/promptflow-runtime-stable:latest') \n",
    "endpoints = [EndpointsSettings(published=8081, target=8080)]\n",
    "app = CustomApplications(name='promptflow-runtime',endpoints=endpoints,bind_mounts=[],image=image,environment_variables={}) "
   ]
  },
  {
   "cell_type": "code",
   "execution_count": 6,
   "metadata": {},
   "outputs": [
    {
     "data": {
      "text/plain": [
       "<azure.core.polling._poller.LROPoller at 0x13be3498610>"
      ]
     },
     "execution_count": 6,
     "metadata": {},
     "output_type": "execute_result"
    }
   ],
   "source": [
    "# create compute instance for prompt flow\n",
    "ci_basic_name = \"contoso-chat-ci\"\n",
    "ci_basic = ComputeInstance(name=ci_basic_name, size=\"STANDARD_DS12_V2\",custom_applications=[app]) \n",
    "ml_client.begin_create_or_update(ci_basic)"
   ]
  },
  {
   "cell_type": "code",
   "execution_count": 9,
   "metadata": {},
   "outputs": [
    {
     "name": "stdout",
     "output_type": "stream",
     "text": [
      "contoso-support\n",
      "contoso-chat-ci\n"
     ]
    }
   ],
   "source": [
    "# List compute instances\n",
    "for ci in ml_client.compute.list():\n",
    "    print(ci.name)"
   ]
  },
  {
   "cell_type": "markdown",
   "metadata": {},
   "source": [
    "## 2. Create the prompt flow runtime"
   ]
  },
  {
   "cell_type": "markdown",
   "metadata": {},
   "source": [
    "Once the compute instance is created. [Follow these instructions to create a runtime in AI Studio.](https://learn.microsoft.com/en-us/azure/ai-studio/how-to/create-manage-runtime)"
   ]
  },
  {
   "cell_type": "markdown",
   "metadata": {},
   "source": [
    "## 3. Run the prompt flow on the runtime to install the dependencies"
   ]
  },
  {
   "cell_type": "code",
   "execution_count": 39,
   "metadata": {},
   "outputs": [],
   "source": [
    "from promptflow import PFClient\n",
    "pf_client = PFClient()"
   ]
  },
  {
   "cell_type": "code",
   "execution_count": 37,
   "metadata": {},
   "outputs": [
    {
     "name": "stdout",
     "output_type": "stream",
     "text": [
      "2023-12-02 16:28:53 -0600   32284 execution.flow     INFO     Start to run 1 nodes with concurrency level 16.\n",
      "2023-12-02 16:28:53 -0600   32284 execution.flow     INFO     Executing node add_custom_packages. node run id: 61196823-36e7-46d5-8aef-a316938213b3_add_custom_packages_0\n",
      "2023-12-02 16:28:58 -0600   32284 execution.flow     INFO     Node add_custom_packages completes.\n"
     ]
    }
   ],
   "source": [
    "# Add a question to test the base prompt flow.\n",
    "output = pf_client.test(\n",
    "    flow=\".\", # Path to the flow directory\n",
    "    inputs={},\n",
    ")\n",
    "output['version']"
   ]
  },
  {
   "cell_type": "code",
   "execution_count": 42,
   "metadata": {},
   "outputs": [
    {
     "name": "stderr",
     "output_type": "stream",
     "text": [
      "Found the config file in: ..\\config.json\n"
     ]
    }
   ],
   "source": [
    "config_path = \"../config.json\"\n",
    "from promptflow.azure import PFClient\n",
    "pf_azure_client = PFClient.from_config(credential=credential, path=config_path)"
   ]
  },
  {
   "cell_type": "code",
   "execution_count": 53,
   "metadata": {},
   "outputs": [],
   "source": [
    "# Update the runtime to the name of the runtime you created previously\n",
    "runtime = \"promptflow-contoso-chat-rt\"\n",
    "# load flow\n",
    "flow = \".\"\n",
    "run_name=\"update_runtime_test\"\n",
    "data = \"../data/emptydata.jsonl\""
   ]
  },
  {
   "cell_type": "code",
   "execution_count": 54,
   "metadata": {},
   "outputs": [
    {
     "name": "stdout",
     "output_type": "stream",
     "text": [
      "Portal url: https://ml.azure.com/prompts/flow/bulkrun/run/update_runtime_test/details?wsid=/subscriptions/91d27443-f037-45d9-bb0c-428256992df6/resourceGroups/rg-contosooutdoor/providers/Microsoft.MachineLearningServices/workspaces/contoso-outdoor-chat\n",
      "name: update_runtime_test\n",
      "created_on: '2023-12-02T22:43:21.857948+00:00'\n",
      "status: Preparing\n",
      "display_name: update_runtime_test\n",
      "description: null\n",
      "tags: {}\n",
      "properties:\n",
      "  azureml.promptflow.runtime_name: promptflow-contoso-chat-rt\n",
      "  azureml.promptflow.runtime_version: 20231114.v2\n",
      "  azureml.promptflow.definition_file_name: flow.dag.yaml\n",
      "  azureml.promptflow.session_id: a1b7e6e546da59083e94b2d93551ca31361ace3ac27323ba\n",
      "  azureml.promptflow.flow_lineage_id: 87d042a9621bb7af861108edbde710be6755dfe18b662e1352c9f583bea27d39\n",
      "  azureml.promptflow.flow_definition_datastore_name: workspaceblobstore\n",
      "  azureml.promptflow.flow_definition_blob_path: LocalUpload/b1d8062cfe3aa0bab141a7f257c219b4/runtime/flow.dag.yaml\n",
      "  _azureml.evaluation_run: promptflow.BatchRun\n",
      "  azureml.promptflow.snapshot_id: c9e42b40-0d3d-43c9-9f62-ba733c452a29\n",
      "creation_context:\n",
      "  userObjectId: 50c2d972-de75-441d-ab86-ce5b387ed84a\n",
      "  userPuId: 1003200035704ECF\n",
      "  userIdp: null\n",
      "  userAltSecId: null\n",
      "  userIss: https://sts.windows.net/72f988bf-86f1-41af-91ab-2d7cd011db47/\n",
      "  userTenantId: 72f988bf-86f1-41af-91ab-2d7cd011db47\n",
      "  userName: Cassie Breviu\n",
      "  upn: null\n",
      "start_time: null\n",
      "end_time: null\n",
      "duration: null\n",
      "portal_url: https://ml.azure.com/prompts/flow/bulkrun/run/update_runtime_test/details?wsid=/subscriptions/91d27443-f037-45d9-bb0c-428256992df6/resourceGroups/rg-contosooutdoor/providers/Microsoft.MachineLearningServices/workspaces/contoso-outdoor-chat\n",
      "data: azureml://datastores/workspaceblobstore/paths/LocalUpload/61185c72a26774d4d264de0eebf250dc/emptydata.jsonl\n",
      "data_portal_url: https://ml.azure.com/data/datastore/workspaceblobstore/edit?wsid=/subscriptions/91d27443-f037-45d9-bb0c-428256992df6/resourceGroups/rg-contosooutdoor/providers/Microsoft.MachineLearningServices/workspaces/contoso-outdoor-chat&activeFilePath=LocalUpload/61185c72a26774d4d264de0eebf250dc/emptydata.jsonl#browseTab\n",
      "output: null\n",
      "output_portal_url: null\n",
      "\n"
     ]
    }
   ],
   "source": [
    "base_run = pf_azure_client.run(\n",
    "    flow=flow,\n",
    "    data=data,\n",
    "    runtime=runtime,\n",
    "    # create a display name as current datetime\n",
    "    display_name=run_name,\n",
    "    name=run_name\n",
    ")\n",
    "print(base_run)"
   ]
  },
  {
   "cell_type": "code",
   "execution_count": 55,
   "metadata": {},
   "outputs": [
    {
     "name": "stdout",
     "output_type": "stream",
     "text": [
      "2023-12-02 22:43:27 +0000      35 promptflow-runtime INFO     [update_runtime_test] Receiving v2 bulk run request 678004c7-044e-4958-af4e-706af83d6602: {\"flow_id\": \"update_runtime_test\", \"flow_run_id\": \"update_runtime_test\", \"flow_source\": {\"flow_source_type\": 1, \"flow_source_info\": {\"snapshot_id\": \"c9e42b40-0d3d-43c9-9f62-ba733c452a29\"}, \"flow_dag_file\": \"flow.dag.yaml\"}, \"log_path\": \"https://stcontosoout699609817029.blob.core.windows.net/3a32a40b-674b-4e11-8e69-4d28b93d4235-azureml/ExperimentRun/dcid.update_runtime_test/logs/azureml/executionlogs.txt?sv=2019-07-07&sr=b&sig=**data_scrubbed**&skoid=e600d0b5-5a77-431c-ba8a-d6cf970648ba&sktid=72f988bf-86f1-41af-91ab-2d7cd011db47&skt=2023-12-02T21%3A15%3A12Z&ske=2023-12-04T05%3A25%3A12Z&sks=b&skv=2019-07-07&st=2023-12-02T22%3A33%3A26Z&se=2023-12-03T06%3A43%3A26Z&sp=rcw\", \"app_insights_instrumentation_key\": \"InstrumentationKey=**data_scrubbed**;IngestionEndpoint=https://westus2-4.in.applicationinsights.azure.com/;LiveEndpoint=https://westus2.livediagnostics.monitor.azure.com/\", \"data_inputs\": {\"data\": \"azureml://datastores/workspaceblobstore/paths/LocalUpload/61185c72a26774d4d264de0eebf250dc/emptydata.jsonl\"}, \"azure_storage_setting\": {\"azure_storage_mode\": 1, \"storage_account_name\": \"stcontosoout699609817029\", \"blob_container_name\": \"3a32a40b-674b-4e11-8e69-4d28b93d4235-azureml-blobstore\", \"flow_artifacts_root_path\": \"promptflow/PromptFlowArtifacts/update_runtime_test\", \"blob_container_sas_token\": \"?sv=2019-07-07&sr=c&sig=**data_scrubbed**&skoid=e600d0b5-5a77-431c-ba8a-d6cf970648ba&sktid=72f988bf-86f1-41af-91ab-2d7cd011db47&skt=2023-12-02T22%3A43%3A27Z&ske=2023-12-09T22%3A43%3A27Z&sks=b&skv=2019-07-07&se=2023-12-09T22%3A43%3A27Z&sp=racwl\", \"output_datastore_name\": \"workspaceblobstore\"}}\n",
      "2023-12-02 22:43:27 +0000      35 promptflow-runtime INFO     Runtime version: 20231114.v2. PromptFlow version: 1.0.002.dev3\n",
      "2023-12-02 22:43:27 +0000      35 promptflow-runtime INFO     Updating update_runtime_test to Status.Preparing...\n",
      "2023-12-02 22:43:28 +0000      35 promptflow-runtime INFO     Use spawn method to start child process.\n",
      "2023-12-02 22:43:28 +0000      35 promptflow-runtime INFO     Starting to check process 406 status for run update_runtime_test\n",
      "2023-12-02 22:43:28 +0000      35 promptflow-runtime INFO     Start checking run status for run update_runtime_test\n",
      "2023-12-02 22:43:32 +0000     406 promptflow-runtime INFO     [35--406] Start processing flowV2......\n",
      "2023-12-02 22:43:32 +0000     406 promptflow-runtime INFO     Runtime version: 20231114.v2. PromptFlow version: 1.0.002.dev3\n",
      "2023-12-02 22:43:32 +0000     406 promptflow-runtime INFO     Setting mlflow tracking uri...\n",
      "2023-12-02 22:43:32 +0000     406 promptflow-runtime INFO     Validating 'AzureML Data Scientist' user authentication...\n",
      "2023-12-02 22:43:32 +0000     406 promptflow-runtime INFO     Successfully validated 'AzureML Data Scientist' user authentication.\n",
      "2023-12-02 22:43:32 +0000     406 promptflow-runtime INFO     Using AzureMLRunStorageV2\n",
      "2023-12-02 22:43:32 +0000     406 promptflow-runtime INFO     Setting mlflow tracking uri to 'azureml://westus2.api.azureml.ms/mlflow/v1.0/subscriptions/91d27443-f037-45d9-bb0c-428256992df6/resourceGroups/rg-contosooutdoor/providers/Microsoft.MachineLearningServices/workspaces/contoso-outdoor-chat'\n",
      "2023-12-02 22:43:32 +0000     406 promptflow-runtime INFO     Initialized blob service client for AzureMLRunTracker.\n",
      "2023-12-02 22:43:33 +0000     406 promptflow-runtime INFO     Setting mlflow tracking uri to 'azureml://westus2.api.azureml.ms/mlflow/v1.0/subscriptions/91d27443-f037-45d9-bb0c-428256992df6/resourceGroups/rg-contosooutdoor/providers/Microsoft.MachineLearningServices/workspaces/contoso-outdoor-chat'\n",
      "2023-12-02 22:43:33 +0000     406 promptflow-runtime INFO     Get snapshot sas url for c9e42b40-0d3d-43c9-9f62-ba733c452a29...\n",
      "2023-12-02 22:43:39 +0000     406 promptflow-runtime INFO     Downloading snapshot c9e42b40-0d3d-43c9-9f62-ba733c452a29 from uri https://stcontosoout699609817029.blob.core.windows.net/3a32a40b-674b-4e11-8e69-4d28b93d4235-snapshotzips/contoso-outdoor-chat:3a32a40b-674b-4e11-8e69-4d28b93d4235:snapshotzip/c9e42b40-0d3d-43c9-9f62-ba733c452a29.zip...\n",
      "2023-12-02 22:43:39 +0000     406 promptflow-runtime INFO     Downloaded file /service/app/38975/requests/update_runtime_test/c9e42b40-0d3d-43c9-9f62-ba733c452a29.zip with size 13285 for snapshot c9e42b40-0d3d-43c9-9f62-ba733c452a29.\n",
      "2023-12-02 22:43:39 +0000     406 promptflow-runtime INFO     Download snapshot c9e42b40-0d3d-43c9-9f62-ba733c452a29 completed.\n",
      "2023-12-02 22:43:40 +0000     406 promptflow-runtime INFO     Resolve data from url finished in 0.5859192949999397 seconds\n",
      "2023-12-02 22:43:41 +0000     406 promptflow-runtime INFO     Starting the aml run 'update_runtime_test'...\n",
      "2023-12-02 22:43:41 +0000     406 execution          WARNING  Starting run without column mapping may lead to unexpected results. Please consult the following documentation for more information: https://aka.ms/pf/column-mapping\n",
      "2023-12-02 22:43:41 +0000     406 execution.bulk     INFO     Using fork, process count: 1\n",
      "2023-12-02 22:43:41 +0000     449 execution          INFO     Process 449 started.\n",
      "(Run status is 'Running', continue streaming...)\n",
      "2023-12-02 22:43:41 +0000     406 execution          INFO     Process name: ForkProcess-4:2, Process id: 449, Line number: 0 start execution.\n",
      "2023-12-02 22:43:59 +0000     406 execution          INFO     Process name: ForkProcess-4:2, Process id: 449, Line number: 0 completed.\n",
      "2023-12-02 22:43:59 +0000     406 execution.bulk     INFO     Finished 1 / 1 lines.\n",
      "2023-12-02 22:43:59 +0000     406 execution.bulk     INFO     Average execution time for completed lines: 17.61 seconds. Estimated time for incomplete lines: 0.0 seconds.\n",
      "2023-12-02 22:44:01 +0000     406 execution.bulk     INFO     Upload status summary metrics for run update_runtime_test finished in 1.0484138550000353 seconds\n",
      "2023-12-02 22:44:01 +0000     406 promptflow-runtime INFO     Successfully write run properties {\"azureml.promptflow.total_tokens\": 0, \"_azureml.evaluate_artifacts\": \"[{\\\"path\\\": \\\"instance_results.jsonl\\\", \\\"type\\\": \\\"table\\\"}]\"} with run id 'update_runtime_test'\n",
      "2023-12-02 22:44:01 +0000     406 execution.bulk     INFO     Upload RH properties for run update_runtime_test finished in 0.0695688490000066 seconds\n",
      "2023-12-02 22:44:01 +0000     406 promptflow-runtime INFO     Creating unregistered output Asset for Run update_runtime_test...\n",
      "2023-12-02 22:44:01 +0000     406 promptflow-runtime INFO     Created debug_info Asset: azureml://locations/westus2/workspaces/3a32a40b-674b-4e11-8e69-4d28b93d4235/data/azureml_update_runtime_test_output_data_debug_info/versions/1\n",
      "2023-12-02 22:44:01 +0000     406 promptflow-runtime INFO     Creating unregistered output Asset for Run update_runtime_test...\n",
      "2023-12-02 22:44:01 +0000     406 promptflow-runtime INFO     Created flow_outputs output Asset: azureml://locations/westus2/workspaces/3a32a40b-674b-4e11-8e69-4d28b93d4235/data/azureml_update_runtime_test_output_data_flow_outputs/versions/1\n",
      "2023-12-02 22:44:01 +0000     406 promptflow-runtime INFO     Creating Artifact for Run update_runtime_test...\n",
      "2023-12-02 22:44:02 +0000     406 promptflow-runtime INFO     Created instance_results.jsonl Artifact.\n",
      "2023-12-02 22:44:02 +0000     406 promptflow-runtime INFO     Patching update_runtime_test...\n",
      "2023-12-02 22:44:02 +0000     406 promptflow-runtime INFO     Ending the aml run 'update_runtime_test' with status 'Completed'...\n",
      "2023-12-02 22:44:03 +0000      35 promptflow-runtime INFO     Process 406 finished\n",
      "2023-12-02 22:44:03 +0000      35 promptflow-runtime INFO     [35] Child process finished!\n",
      "2023-12-02 22:44:03 +0000      35 promptflow-runtime INFO     [update_runtime_test] End processing bulk run\n",
      "======= Run Summary =======\n",
      "Run name: \"update_runtime_test\"\n",
      "Run status: \"Completed\"\n",
      "Start time: \"2023-12-02 22:43:41.466800+00:00\"\n",
      "Duration: \"0:00:20.774881\"\n",
      "Run url: \"https://ml.azure.com/prompts/flow/bulkrun/run/update_runtime_test/details?wsid=/subscriptions/91d27443-f037-45d9-bb0c-428256992df6/resourceGroups/rg-contosooutdoor/providers/Microsoft.MachineLearningServices/workspaces/contoso-outdoor-chat\""
     ]
    },
    {
     "data": {
      "text/plain": [
       "<promptflow._sdk.entities._run.Run at 0x13beb92ba00>"
      ]
     },
     "execution_count": 55,
     "metadata": {},
     "output_type": "execute_result"
    }
   ],
   "source": [
    "pf_azure_client.stream(base_run)"
   ]
  },
  {
   "cell_type": "code",
   "execution_count": 56,
   "metadata": {},
   "outputs": [
    {
     "data": {
      "text/html": [
       "<div>\n",
       "<style scoped>\n",
       "    .dataframe tbody tr th:only-of-type {\n",
       "        vertical-align: middle;\n",
       "    }\n",
       "\n",
       "    .dataframe tbody tr th {\n",
       "        vertical-align: top;\n",
       "    }\n",
       "\n",
       "    .dataframe thead th {\n",
       "        text-align: right;\n",
       "    }\n",
       "</style>\n",
       "<table border=\"1\" class=\"dataframe\">\n",
       "  <thead>\n",
       "    <tr style=\"text-align: right;\">\n",
       "      <th></th>\n",
       "      <th>inputs.line_number</th>\n",
       "      <th>outputs.version</th>\n",
       "    </tr>\n",
       "    <tr>\n",
       "      <th>outputs.line_number</th>\n",
       "      <th></th>\n",
       "      <th></th>\n",
       "    </tr>\n",
       "  </thead>\n",
       "  <tbody>\n",
       "    <tr>\n",
       "      <th>0</th>\n",
       "      <td>0</td>\n",
       "      <td>[Package, ------------------------------------...</td>\n",
       "    </tr>\n",
       "  </tbody>\n",
       "</table>\n",
       "</div>"
      ],
      "text/plain": [
       "                     inputs.line_number  \\\n",
       "outputs.line_number                       \n",
       "0                                     0   \n",
       "\n",
       "                                                       outputs.version  \n",
       "outputs.line_number                                                     \n",
       "0                    [Package, ------------------------------------...  "
      ]
     },
     "execution_count": 56,
     "metadata": {},
     "output_type": "execute_result"
    }
   ],
   "source": [
    "details = pf_azure_client.get_details(base_run)"
   ]
  },
  {
   "cell_type": "code",
   "execution_count": 58,
   "metadata": {},
   "outputs": [
    {
     "data": {
      "text/plain": [
       "['Package',\n",
       " '------------------------------------',\n",
       " 'adal',\n",
       " 'aiofiles',\n",
       " 'aiohttp',\n",
       " 'aiosignal',\n",
       " 'alembic',\n",
       " 'antlr4-python3-runtime',\n",
       " 'argcomplete',\n",
       " 'asgiref',\n",
       " 'async-timeout',\n",
       " 'attrs',\n",
       " 'azure-ai-ml',\n",
       " 'azure-common',\n",
       " 'azure-core',\n",
       " 'azure-core-tracing-opentelemetry',\n",
       " 'azure-cosmos',\n",
       " 'azure-data-tables',\n",
       " 'azure-graphrbac',\n",
       " 'azure-identity',\n",
       " 'azure-keyvault',\n",
       " 'azure-keyvault-certificates',\n",
       " 'azure-keyvault-keys',\n",
       " 'azure-keyvault-secrets',\n",
       " 'azure-mgmt-authorization',\n",
       " 'azure-mgmt-containerregistry',\n",
       " 'azure-mgmt-core',\n",
       " 'azure-mgmt-keyvault',\n",
       " 'azure-mgmt-resource',\n",
       " 'azure-mgmt-storage',\n",
       " 'azure-monitor-opentelemetry',\n",
       " 'azure-monitor-opentelemetry-exporter',\n",
       " 'azure-search-documents',\n",
       " 'azure-storage-blob',\n",
       " 'azure-storage-file-datalake',\n",
       " 'azure-storage-file-share',\n",
       " 'azureml-ai-monitoring',\n",
       " 'azureml-core',\n",
       " 'azureml-dataprep',\n",
       " 'azureml-dataprep-native',\n",
       " 'azureml-dataprep-rslex',\n",
       " 'azureml-mlflow',\n",
       " 'backports.tempfile',\n",
       " 'backports.weakref',\n",
       " 'banal',\n",
       " 'bcrypt',\n",
       " 'beautifulsoup4',\n",
       " 'cachetools',\n",
       " 'certifi',\n",
       " 'cffi',\n",
       " 'chardet',\n",
       " 'charset-normalizer',\n",
       " 'click',\n",
       " 'cloudpickle',\n",
       " 'colorama',\n",
       " 'contextlib2',\n",
       " 'contourpy',\n",
       " 'cryptography',\n",
       " 'cycler',\n",
       " 'databricks-cli',\n",
       " 'dataclasses-json',\n",
       " 'dataset',\n",
       " 'Deprecated',\n",
       " 'distro',\n",
       " 'docker',\n",
       " 'dotnetcore2',\n",
       " 'embeddingstore',\n",
       " 'entrypoints',\n",
       " 'faiss-cpu',\n",
       " 'filelock',\n",
       " 'filetype',\n",
       " 'fixedint',\n",
       " 'Flask',\n",
       " 'fonttools',\n",
       " 'frozenlist',\n",
       " 'gitdb',\n",
       " 'GitPython',\n",
       " 'google-api-core',\n",
       " 'google-auth',\n",
       " 'google-search-results',\n",
       " 'googleapis-common-protos',\n",
       " 'greenlet',\n",
       " 'gunicorn',\n",
       " 'humanfriendly',\n",
       " 'idna',\n",
       " 'importlib-metadata',\n",
       " 'importlib-resources',\n",
       " 'isodate',\n",
       " 'itsdangerous',\n",
       " 'jaraco.classes',\n",
       " 'jeepney',\n",
       " 'Jinja2',\n",
       " 'jmespath',\n",
       " 'joblib',\n",
       " 'jsonpickle',\n",
       " 'jsonschema',\n",
       " 'jsonschema-path',\n",
       " 'jsonschema-spec',\n",
       " 'jsonschema-specifications',\n",
       " 'keyring',\n",
       " 'kiwisolver',\n",
       " 'knack',\n",
       " 'langchain',\n",
       " 'langsmith',\n",
       " 'lazy-object-proxy',\n",
       " 'Mako',\n",
       " 'Markdown',\n",
       " 'MarkupSafe',\n",
       " 'marshmallow',\n",
       " 'matplotlib',\n",
       " 'mlflow',\n",
       " 'mlflow-skinny',\n",
       " 'mltable',\n",
       " 'more-itertools',\n",
       " 'msal',\n",
       " 'msal-extensions',\n",
       " 'msrest',\n",
       " 'msrestazure',\n",
       " 'multidict',\n",
       " 'mypy-extensions',\n",
       " 'ndg-httpsclient',\n",
       " 'numexpr',\n",
       " 'numpy',\n",
       " 'oauthlib',\n",
       " 'omegaconf',\n",
       " 'openai',\n",
       " 'openapi-core',\n",
       " 'openapi-schema-pydantic',\n",
       " 'openapi-schema-validator',\n",
       " 'openapi-spec-validator',\n",
       " 'opencensus',\n",
       " 'opencensus-context',\n",
       " 'opencensus-ext-azure',\n",
       " 'opentelemetry-api',\n",
       " 'opentelemetry-exporter-prometheus',\n",
       " 'opentelemetry-sdk',\n",
       " 'opentelemetry-semantic-conventions',\n",
       " 'packaging',\n",
       " 'pandas',\n",
       " 'paramiko',\n",
       " 'parse',\n",
       " 'pathable',\n",
       " 'pathspec',\n",
       " 'Pillow',\n",
       " 'pip',\n",
       " 'pkginfo',\n",
       " 'portalocker',\n",
       " 'prance',\n",
       " 'prometheus-client',\n",
       " 'promptflow',\n",
       " 'promptflow-contentsafety',\n",
       " 'promptflow-sdk',\n",
       " 'promptflow-tools',\n",
       " 'promptflow-vectordb',\n",
       " 'protobuf',\n",
       " 'psutil',\n",
       " 'pyarrow',\n",
       " 'pyasn1',\n",
       " 'pyasn1-modules',\n",
       " 'pycparser',\n",
       " 'pydantic',\n",
       " 'pydash',\n",
       " 'Pygments',\n",
       " 'PyJWT',\n",
       " 'PyNaCl',\n",
       " 'pyOpenSSL',\n",
       " 'pyparsing',\n",
       " 'PySocks',\n",
       " 'python-dateutil',\n",
       " 'python-dotenv',\n",
       " 'pytz',\n",
       " 'PyYAML',\n",
       " 'querystring-parser',\n",
       " 'referencing',\n",
       " 'regex',\n",
       " 'requests',\n",
       " 'requests-oauthlib',\n",
       " 'rfc3339-validator',\n",
       " 'rpds-py',\n",
       " 'rsa',\n",
       " 'ruamel.yaml',\n",
       " 'ruamel.yaml.clib',\n",
       " 'scikit-learn',\n",
       " 'scipy',\n",
       " 'SecretStorage',\n",
       " 'semantic-kernel',\n",
       " 'setuptools',\n",
       " 'six',\n",
       " 'smmap',\n",
       " 'soupsieve',\n",
       " 'SQLAlchemy',\n",
       " 'sqlparse',\n",
       " 'strictyaml',\n",
       " 'tabulate',\n",
       " 'tenacity',\n",
       " 'threadpoolctl',\n",
       " 'tiktoken',\n",
       " 'tqdm',\n",
       " 'typing_extensions',\n",
       " 'typing-inspect',\n",
       " 'urllib3',\n",
       " 'waitress',\n",
       " 'websocket-client',\n",
       " 'Werkzeug',\n",
       " 'wheel',\n",
       " 'wrapt',\n",
       " 'yarl',\n",
       " 'zipp',\n",
       " '']"
      ]
     },
     "execution_count": 58,
     "metadata": {},
     "output_type": "execute_result"
    }
   ],
   "source": [
    "details[\"outputs.version\"][0]"
   ]
  },
  {
   "cell_type": "code",
   "execution_count": null,
   "metadata": {},
   "outputs": [],
   "source": []
  }
 ],
 "metadata": {
  "kernelspec": {
   "display_name": "pfmain",
   "language": "python",
   "name": "python3"
  },
  "language_info": {
   "codemirror_mode": {
    "name": "ipython",
    "version": 3
   },
   "file_extension": ".py",
   "mimetype": "text/x-python",
   "name": "python",
   "nbconvert_exporter": "python",
   "pygments_lexer": "ipython3",
   "version": "3.9.18"
  }
 },
 "nbformat": 4,
 "nbformat_minor": 2
}
