{
 "cells": [
  {
   "cell_type": "markdown",
   "metadata": {},
   "source": [
    "# Create runtime and compute for the prompt flow"
   ]
  },
  {
   "cell_type": "code",
   "execution_count": null,
   "metadata": {},
   "outputs": [],
   "source": [
    "# import required libraries\n",
    "import os\n",
    "from azure.ai.ml import MLClient\n",
    "from azure.ai.ml.entities import Environment, BuildContext\n",
    "# Import required libraries\n",
    "from azure.identity import DefaultAzureCredential, InteractiveBrowserCredential\n",
    "\n",
    "try:\n",
    "    credential = DefaultAzureCredential()\n",
    "    # Check if given credential can get token successfully.\n",
    "    credential.get_token(\"https://management.azure.com/.default\")\n",
    "except Exception as ex:\n",
    "    # Fall back to InteractiveBrowserCredential in case DefaultAzureCredential not work\n",
    "    credential = InteractiveBrowserCredential()\n",
    "\n",
    "from azure.ai.ml.entities import ComputeInstance \n",
    "from azure.ai.ml.entities import CustomApplications, ImageSettings, EndpointsSettings, VolumeSettings \n",
    "\n"
   ]
  },
  {
   "cell_type": "markdown",
   "metadata": {},
   "source": [
    "Create custom environment for runtime"
   ]
  },
  {
   "cell_type": "code",
   "execution_count": null,
   "metadata": {},
   "outputs": [],
   "source": [
    "ml_client = MLClient.from_config(credential=credential)\n",
    "env_docker_context = Environment(\n",
    "    build=BuildContext(path=\"docker\"),\n",
    "    name=\"promptflow-contoso-chat\",\n",
    "    description=\"Custom promptflow contoso chat environment\",\n",
    ")\n",
    "ml_client.environments.create_or_update(env_docker_context)"
   ]
  },
  {
   "cell_type": "code",
   "execution_count": null,
   "metadata": {},
   "outputs": [],
   "source": [
    "envs = ml_client.environments.get(name=\"promptflow-contoso-chat\", version=\"2\")\n",
    "print(envs)"
   ]
  },
  {
   "cell_type": "markdown",
   "metadata": {},
   "source": [
    "Now we can create the compute and env we set up."
   ]
  },
  {
   "cell_type": "code",
   "execution_count": null,
   "metadata": {},
   "outputs": [],
   "source": [
    "#image= ImageSettings(reference=\"promptflow-contoso-chat:latest\")\n",
    "image= ImageSettings(reference=\"mcr.microsoft.com/azureml/promptflow/promptflow-runtime:20231114.v2\")\n",
    "endpoints = [EndpointsSettings(published=8081, target=8080)]\n",
    "app = CustomApplications(name='promptflow-runtime-contoso-chat',endpoints=endpoints,bind_mounts=[],image=image,environment_variables={}) \n",
    "\n",
    "# create compute instance\n",
    "ci_basic_name = \"promptflow-contoso-chat\"\n",
    "ci_basic = ComputeInstance(name=ci_basic_name, size=\"STANDARD_DS12_V2\",custom_applications=[app]) \n",
    "ml_client.begin_create_or_update(ci_basic)"
   ]
  },
  {
   "cell_type": "markdown",
   "metadata": {},
   "source": [
    "Create the runtime\n",
    "\n",
    "Once the compute instance and enviornment is created. [Follow these instructions to create a runtime in AI Studio.](https://learn.microsoft.com/en-us/azure/ai-studio/how-to/create-manage-runtime)"
   ]
  }
 ],
 "metadata": {
  "kernelspec": {
   "display_name": "pfmain",
   "language": "python",
   "name": "python3"
  },
  "language_info": {
   "codemirror_mode": {
    "name": "ipython",
    "version": 3
   },
   "file_extension": ".py",
   "mimetype": "text/x-python",
   "name": "python",
   "nbconvert_exporter": "python",
   "pygments_lexer": "ipython3",
   "version": "3.9.18"
  }
 },
 "nbformat": 4,
 "nbformat_minor": 2
}
