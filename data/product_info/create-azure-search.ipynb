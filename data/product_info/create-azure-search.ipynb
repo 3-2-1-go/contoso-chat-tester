{
 "cells": [
  {
   "cell_type": "markdown",
   "metadata": {},
   "source": [
    "# Generating your product search index\n",
    "Thereis notebook is designed to automatically create the product search index for you. It uses the [product catalog](products.csv) file to create the index. In order to do so it needs names ane keys for the following services:\n",
    "\n",
    "- Azure Search Service\n",
    "- Azure OpenAI Service\n",
    "\n",
    "You can find the names and keys in the Azure Portal. These need to be entered in a `.env` file in the root of this repository. The `.env` file is not checked in to source control. You can use the `local.env` file as a template."
   ]
  },
  {
   "cell_type": "code",
   "execution_count": 5,
   "metadata": {},
   "outputs": [],
   "source": [
    "import os\n",
    "import pandas as pd\n",
    "import requests\n",
    "import json\n",
    "from typing import List, Dict, Any\n",
    "from openai import AzureOpenAI\n",
    "from pathlib import Path\n",
    "from dotenv import load_dotenv\n",
    "\n",
    "load_dotenv()\n",
    "\n",
    "cog_srch_api_version = \"api-version=2023-07-01-Preview\""
   ]
  },
  {
   "cell_type": "code",
   "execution_count": 6,
   "metadata": {},
   "outputs": [],
   "source": [
    "def delete_index(search_service: str, search_index: str, search_api_key: str):\n",
    "    print(f\"Deleting index {search_index} in {search_service}...\")\n",
    "    response = requests.delete(\n",
    "        f\"https://{search_service}.search.windows.net/indexes/{search_index}\",\n",
    "        headers={\"api-key\": search_api_key},\n",
    "    )\n",
    "    print(response.status_code)\n",
    "    return response.status_code"
   ]
  },
  {
   "cell_type": "code",
   "execution_count": 7,
   "metadata": {},
   "outputs": [],
   "source": [
    "def create_index(search_service: str, search_index: str, search_api_key: str):\n",
    "    print(f\"Creating index {search_index} in {search_service}...\")\n",
    "    index_definition = json.loads(Path(\"index.json\").read_text(encoding=\"utf8\"))\n",
    "    index_definition[\"name\"] = search_index\n",
    "    index_definition[\"semantic\"][\"configurations\"][0][\"name\"] = f\"semantic-{search_index}\"\n",
    "\n",
    "    headers = {\n",
    "        \"Content-Type\": \"application/json\",\n",
    "        \"api-key\": search_api_key\n",
    "    }\n",
    "\n",
    "    response = requests.get(f\"https://{search_service}.search.windows.net/indexes/{search_index}?{cog_srch_api_version}\", \n",
    "                            headers={ \"api-key\": search_api_key })\n",
    "    \n",
    "    print(response.status_code)\n",
    "    if response.status_code == 404:\n",
    "        print(\"Index not found, creating...\")\n",
    "        response = requests.post(f\"https://{search_service}.search.windows.net/indexes?{cog_srch_api_version}\", headers=headers, json=index_definition)\n",
    "        print(response.status_code)\n",
    "        if response.status_code >= 400:\n",
    "            print(\"Create index failed:\")\n",
    "            print(response.json())\n",
    "            exit(1)\n"
   ]
  },
  {
   "cell_type": "code",
   "execution_count": 8,
   "metadata": {},
   "outputs": [],
   "source": [
    "def index_docs(\n",
    "    search_service: str,\n",
    "    search_index: str,\n",
    "    search_api_key: str,\n",
    "    docs: List[Dict[str, any]],\n",
    "):\n",
    "    print(f\"Indexing documents into {search_index} in {search_service}...\")\n",
    "    headers = {\"Content-Type\": \"application/json\", \"api-key\": search_api_key}\n",
    "    items = [\n",
    "        {\n",
    "            \"@search.action\": \"upload\",\n",
    "            \"id\": item[\"id\"],\n",
    "            \"content\": item[\"content\"],\n",
    "            \"title\": item[\"title\"],\n",
    "            \"filename\": item[\"filename\"],\n",
    "            \"embedding\": item[\"embedding\"],\n",
    "            \"url\": item[\"url\"],\n",
    "        }\n",
    "        for item in docs\n",
    "    ]\n",
    "\n",
    "    response = requests.post(\n",
    "        f\"https://{search_service}.search.windows.net/indexes/{search_index}/docs/index?{cog_srch_api_version}\",\n",
    "        headers=headers,\n",
    "        json={\"value\": items},\n",
    "    )\n",
    "\n",
    "    print(response.status_code)\n",
    "    if response.status_code >= 400:\n",
    "        print(\"Error indexing documents:\")\n",
    "        print(response.json())"
   ]
  },
  {
   "cell_type": "code",
   "execution_count": 9,
   "metadata": {},
   "outputs": [],
   "source": [
    "def index(\n",
    "    search_service: str,\n",
    "    search_index: str,\n",
    "    search_api_key: str,\n",
    "    docs: List[Dict[str, any]],\n",
    "):\n",
    "    delete_index(search_service, search_index, search_api_key)\n",
    "    create_index(search_service, search_index, search_api_key)\n",
    "    index_docs(search_service, search_index, search_api_key, docs)"
   ]
  },
  {
   "cell_type": "code",
   "execution_count": 10,
   "metadata": {},
   "outputs": [],
   "source": [
    "def gen_contoso_products(\n",
    "    path: str,\n",
    ") -> List[Dict[str, any]]:\n",
    "    openai_service_endoint = os.environ[\"CONTOSO_AI_SERVICES_ENDPOINT\"]\n",
    "    openai_deployment = \"text-embedding-ada-002\"\n",
    "\n",
    "    # openai.Embedding.create() -> client.embeddings.create()\n",
    "    client = AzureOpenAI(\n",
    "        api_version=\"2023-07-01-preview\",\n",
    "        azure_endpoint=openai_service_endoint,\n",
    "        azure_deployment=openai_deployment,\n",
    "        api_key=os.environ[\"CONTOSO_AI_SERVICES_KEY\"],\n",
    "    )\n",
    "\n",
    "    products = pd.read_csv(path)\n",
    "    items = []\n",
    "    for product in products.to_dict(\"records\"):\n",
    "        content = product[\"description\"]\n",
    "        id = str(product[\"id\"])\n",
    "        title = product[\"name\"]\n",
    "        url = f\"/products/{title.lower().replace(' ', '-')}\"\n",
    "        emb = client.embeddings.create(input=content, model=openai_deployment)\n",
    "        rec = {\n",
    "            \"id\": id,\n",
    "            \"content\": content,\n",
    "            \"title\": title,\n",
    "            \"filename\": f\"{title.lower().replace(' ', '-')}\",\n",
    "            \"embedding\": emb.data[0].embedding,\n",
    "            \"url\": url,\n",
    "        }\n",
    "        items.append(rec)\n",
    "\n",
    "    return items"
   ]
  },
  {
   "cell_type": "code",
   "execution_count": 11,
   "metadata": {},
   "outputs": [
    {
     "name": "stdout",
     "output_type": "stream",
     "text": [
      "Deleting index contoso-products-test in contoso-search...\n",
      "400\n",
      "Creating index contoso-products-test in contoso-search...\n",
      "200\n",
      "Indexing documents into contoso-products-test in contoso-search...\n",
      "200\n"
     ]
    }
   ],
   "source": [
    "contoso_search = os.environ[\"CONTOSO_SEARCH_SERVICE\"]\n",
    "contoso_search_key = os.environ[\"CONTOSO_SEARCH_KEY\"]\n",
    "index_name = \"contoso-products\"\n",
    "\n",
    "contoso_products = gen_contoso_products(\"products.csv\")\n",
    "index(\n",
    "    contoso_search,\n",
    "    index_name,\n",
    "    contoso_search_key,\n",
    "    contoso_products,\n",
    ")"
   ]
  },
  {
   "cell_type": "code",
   "execution_count": null,
   "metadata": {},
   "outputs": [],
   "source": []
  },
  {
   "cell_type": "code",
   "execution_count": null,
   "metadata": {},
   "outputs": [],
   "source": []
  }
 ],
 "metadata": {
  "kernelspec": {
   "display_name": ".venv",
   "language": "python",
   "name": "python3"
  },
  "language_info": {
   "codemirror_mode": {
    "name": "ipython",
    "version": 3
   },
   "file_extension": ".py",
   "mimetype": "text/x-python",
   "name": "python",
   "nbconvert_exporter": "python",
   "pygments_lexer": "ipython3",
   "version": "3.11.5"
  }
 },
 "nbformat": 4,
 "nbformat_minor": 2
}
