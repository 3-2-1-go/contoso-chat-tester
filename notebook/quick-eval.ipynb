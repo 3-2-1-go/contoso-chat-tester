{
 "cells": [
  {
   "cell_type": "code",
   "execution_count": 1,
   "metadata": {},
   "outputs": [],
   "source": [
    "from promptflow import PFClient\n",
    "\n",
    "question = \"tell me about your jackets\"\n",
    "customerId = \"2\""
   ]
  },
  {
   "cell_type": "code",
   "execution_count": 5,
   "metadata": {},
   "outputs": [
    {
     "name": "stderr",
     "output_type": "stream",
     "text": [
      "[2023-11-29 12:53:00,850][promptflow._sdk.entities._connection][WARNING] - Please use connection.secrets[key] to access secrets.\n"
     ]
    },
    {
     "name": "stdout",
     "output_type": "stream",
     "text": [
      "2023-11-29 12:53:00 -0800   33260 execution.flow     INFO     Start to run 5 nodes with concurrency level 16.\n",
      "2023-11-29 12:53:00 -0800   33260 execution.flow     INFO     Executing node question_embedding. node run id: 75ba475f-254d-45ec-af9a-0ec0336017e9_question_embedding_0\n",
      "2023-11-29 12:53:00 -0800   33260 execution.flow     INFO     Executing node customer_lookup. node run id: 75ba475f-254d-45ec-af9a-0ec0336017e9_customer_lookup_0\n",
      "2023-11-29 12:53:04 -0800   33260 execution.flow     INFO     Node question_embedding completes.\n",
      "2023-11-29 12:53:04 -0800   33260 execution.flow     INFO     Executing node retrieve_documentation. node run id: 75ba475f-254d-45ec-af9a-0ec0336017e9_retrieve_documentation_0\n",
      "2023-11-29 12:53:04 -0800   33260 execution.flow     INFO     Node customer_lookup completes.\n",
      "2023-11-29 12:53:06 -0800   33260 execution.flow     INFO     Node retrieve_documentation completes.\n",
      "2023-11-29 12:53:06 -0800   33260 execution.flow     INFO     Executing node customer_prompt. node run id: 75ba475f-254d-45ec-af9a-0ec0336017e9_customer_prompt_0\n",
      "2023-11-29 12:53:06 -0800   33260 execution.flow     INFO     Node customer_prompt completes.\n",
      "2023-11-29 12:53:06 -0800   33260 execution.flow     INFO     Executing node llm_response. node run id: 75ba475f-254d-45ec-af9a-0ec0336017e9_llm_response_0\n",
      "2023-11-29 12:53:06 -0800   33260 execution.flow     WARNING  Output of llm_response is not json serializable, use str to store it.\n",
      "2023-11-29 12:53:06 -0800   33260 execution.flow     INFO     Node llm_response completes.\n"
     ]
    },
    {
     "data": {
      "text/plain": [
       "{'answer': 'Hi Jane! MountainStyle has a couple of jackets that would be perfect for your outdoor adventures! The Summit Breeze Jacket is lightweight, windproof, water-resistant, and comes with adjustable cuffs and reflective accents for visibility 🔥. The RainGuard Hiking Jacket, on the other hand, is waterproof, breathable, has multiple pockets, and ventilation zippers for increased airflow 😎. Both jackets will keep you comfortable and ready for any weather. You might also be interested in our Adventurer Pro Backpack or TrekReady Hiking Boots to complete your outdoor gear 🎒🥾.',\n",
       " 'context': [{'id': '3',\n",
       "   'title': 'Summit Breeze Jacket',\n",
       "   'content': \"Discover the joy of hiking with MountainStyle's Summit Breeze Jacket. This lightweight jacket is your perfect companion for outdoor adventures. Sporting a trail-ready, windproof design and a water-resistant fabric, it's ready to withstand any weather. The breathable polyester material and adjustable cuffs keep you comfortable, whether you're ascending a mountain or strolling through a park. And its sleek black color adds style to function. The jacket features a full-zip front closure, adjustable hood, and secure zippered pockets. Experience the comfort of its inner lining and the convenience of its packable design. Crafted for night trekkers too, the jacket has reflective accents for enhanced visibility. Rugged yet chic, the Summit Breeze Jacket is more than a hiking essential, it's the gear that inspires you to reach new heights. Choose adventure, choose the Summit Breeze Jacket.\",\n",
       "   'url': '/products/summit-breeze-jacket'},\n",
       "  {'id': '17',\n",
       "   'title': 'RainGuard Hiking Jacket',\n",
       "   'content': \"Introducing the MountainStyle RainGuard Hiking Jacket - the ultimate solution for weatherproof comfort during your outdoor undertakings! Designed with waterproof, breathable fabric, this jacket promises an outdoor experience that's as dry as it is comfortable. The rugged construction assures durability, while the adjustable hood provides a customizable fit against wind and rain. Featuring multiple pockets for safe, convenient storage and adjustable cuffs and hem, you can tailor the jacket to suit your needs on-the-go. And, don't worry about overheating during intense activities - it's equipped with ventilation zippers for increased airflow. Reflective details ensure visibility even during low-light conditions, making it perfect for evening treks. With its lightweight, packable design, carrying it inside your backpack requires minimal effort. With options for men and women, the RainGuard Hiking Jacket is perfect for hiking, camping, trekking and countless other outdoor adventures. Don't let the weather stand in your way - embrace the outdoors with MountainStyle RainGuard Hiking Jacket!\",\n",
       "   'url': '/products/rainguard-hiking-jacket'}]}"
      ]
     },
     "execution_count": 5,
     "metadata": {},
     "output_type": "execute_result"
    }
   ],
   "source": [
    "pf_client = PFClient()\n",
    "output = pf_client.test(\n",
    "    \"../\",\n",
    "    inputs={\n",
    "        \"chat_history\": [],\n",
    "        \"question\": question,\n",
    "        \"customerId\": customerId,\n",
    "    }\n",
    ")\n",
    "output[\"answer\"] = \"\".join(list(output[\"answer\"]))\n",
    "output"
   ]
  },
  {
   "cell_type": "code",
   "execution_count": 6,
   "metadata": {},
   "outputs": [
    {
     "name": "stdout",
     "output_type": "stream",
     "text": [
      "2023-11-29 12:54:28 -0800   33260 execution.flow     INFO     Start to run 2 nodes with concurrency level 16.\n",
      "2023-11-29 12:54:28 -0800   33260 execution.flow     INFO     Executing node groundedness_score. node run id: d5fe1fca-5761-46f8-8b05-a8d10c634c49_groundedness_score_0\n",
      "2023-11-29 12:54:29 -0800   33260 execution.flow     INFO     Node groundedness_score completes.\n",
      "2023-11-29 12:54:29 -0800   33260 execution.flow     INFO     Executing node concat_scores. node run id: d5fe1fca-5761-46f8-8b05-a8d10c634c49_concat_scores_0\n",
      "2023-11-29 12:54:29 -0800   33260 execution.flow     INFO     Node concat_scores completes.\n",
      "2023-11-29 12:54:29 -0800   33260 execution.flow     INFO     Start to run 1 nodes with concurrency level 16.\n",
      "2023-11-29 12:54:29 -0800   33260 execution.flow     INFO     Executing node aggregate_variants_results. node run id: dffa040d-8fe3-4cbb-8e59-bb71357f456e_aggregate_variants_results_reduce\n",
      "2023-11-29 12:54:29 -0800   33260 execution.flow     INFO     Node aggregate_variants_results completes.\n"
     ]
    },
    {
     "data": {
      "text/plain": [
       "{'gpt_groundedness': 5.0}"
      ]
     },
     "execution_count": 6,
     "metadata": {},
     "output_type": "execute_result"
    }
   ],
   "source": [
    "test = pf_client.test(\n",
    "    \"../eval/groundedness/\",\n",
    "    inputs={\n",
    "        \"question\": question,\n",
    "        \"context\": output['context'],\n",
    "        \"answer\": output['answer'],\n",
    "    }\n",
    ")\n",
    "test"
   ]
  },
  {
   "cell_type": "code",
   "execution_count": null,
   "metadata": {},
   "outputs": [],
   "source": []
  }
 ],
 "metadata": {
  "kernelspec": {
   "display_name": ".venv",
   "language": "python",
   "name": "python3"
  },
  "language_info": {
   "codemirror_mode": {
    "name": "ipython",
    "version": 3
   },
   "file_extension": ".py",
   "mimetype": "text/x-python",
   "name": "python",
   "nbconvert_exporter": "python",
   "pygments_lexer": "ipython3",
   "version": "3.11.5"
  }
 },
 "nbformat": 4,
 "nbformat_minor": 2
}
