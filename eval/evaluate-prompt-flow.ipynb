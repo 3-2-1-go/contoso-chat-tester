{
 "cells": [
  {
   "cell_type": "markdown",
   "metadata": {},
   "source": [
    "# Local Evaluation - Groundedness\n",
    "\n",
    "After you have setup and configured the prompt flow, its time to evaluation its performance. Here we can use the prompt flow SDK to test different questions and see how the prompt flow performs using the evaluation prompt flows provided."
   ]
  },
  {
   "cell_type": "code",
   "execution_count": 6,
   "metadata": {},
   "outputs": [],
   "source": [
    "from promptflow import PFClient\n",
    "pf_client = PFClient()"
   ]
  },
  {
   "cell_type": "code",
   "execution_count": 7,
   "metadata": {},
   "outputs": [
    {
     "name": "stderr",
     "output_type": "stream",
     "text": [
      "[2023-12-01 14:10:54,525][promptflow._sdk.entities._connection][WARNING] - Please use connection.secrets[key] to access secrets.\n"
     ]
    },
    {
     "name": "stdout",
     "output_type": "stream",
     "text": [
      "2023-12-01 14:10:54 -0600   25660 execution.flow     INFO     Start to run 5 nodes with concurrency level 16.\n",
      "2023-12-01 14:10:54 -0600   25660 execution.flow     INFO     Executing node question_embedding. node run id: d7be5c33-87e1-49f9-aa89-11e807fead1f_question_embedding_0\n",
      "2023-12-01 14:10:54 -0600   25660 execution.flow     INFO     Executing node customer_lookup. node run id: d7be5c33-87e1-49f9-aa89-11e807fead1f_customer_lookup_0\n",
      "2023-12-01 14:10:55 -0600   25660 execution.flow     INFO     Node question_embedding completes.\n",
      "2023-12-01 14:10:55 -0600   25660 execution.flow     INFO     Executing node retrieve_documentation. node run id: d7be5c33-87e1-49f9-aa89-11e807fead1f_retrieve_documentation_0\n",
      "2023-12-01 14:10:56 -0600   25660 execution.flow     INFO     Node retrieve_documentation completes.\n",
      "2023-12-01 14:10:56 -0600   25660 execution.flow     INFO     Node customer_lookup completes.\n",
      "2023-12-01 14:10:56 -0600   25660 execution.flow     INFO     Executing node customer_prompt. node run id: d7be5c33-87e1-49f9-aa89-11e807fead1f_customer_prompt_0\n",
      "2023-12-01 14:10:56 -0600   25660 execution.flow     INFO     Node customer_prompt completes.\n",
      "2023-12-01 14:10:56 -0600   25660 execution.flow     INFO     Executing node llm_response. node run id: d7be5c33-87e1-49f9-aa89-11e807fead1f_llm_response_0\n",
      "2023-12-01 14:10:57 -0600   25660 execution.flow     WARNING  Output of llm_response is not json serializable, use str to store it.\n",
      "2023-12-01 14:10:57 -0600   25660 execution.flow     INFO     Node llm_response completes.\n"
     ]
    }
   ],
   "source": [
    "# Add a question to test the base prompt flow.\n",
    "question = \"Can you tell me about your jackets?\"\n",
    "customerId = \"4\"\n",
    "output = pf_client.test(\n",
    "    flow=\"../\", # Path to the flow directory\n",
    "    inputs={ # Inputs to the flow\n",
    "        \"chat_history\": [],\n",
    "        \"question\": question,\n",
    "        \"customerId\": customerId,\n",
    "    },\n",
    ")\n",
    "\n",
    "output[\"answer\"] = \"\".join(list(output[\"answer\"]))"
   ]
  },
  {
   "cell_type": "code",
   "execution_count": 8,
   "metadata": {},
   "outputs": [
    {
     "data": {
      "text/plain": [
       "{'answer': \"Hi Sarah Lee! 😊 We offer two hiking jackets that might interest you: the Summit Breeze Jacket and the RainGuard Hiking Jacket. The Summit Breeze Jacket (#3) is a perfect lightweight option for outdoor adventures, while the RainGuard Hiking Jacket (#17) offers ultimate weatherproof comfort. Both jackets are made with breathable fabric and have adjustable cuffs for maximum comfort. If you're looking to complete your hiking kit, our TrailMaster X4 Tent and CozyNights Sleeping Bag would go well with either of the jackets. 🏕️ Happy adventuring!\",\n",
       " 'context': [{'id': '3',\n",
       "   'title': 'Summit Breeze Jacket',\n",
       "   'content': \"Discover the joy of hiking with MountainStyle's Summit Breeze Jacket. This lightweight jacket is your perfect companion for outdoor adventures. Sporting a trail-ready, windproof design and a water-resistant fabric, it's ready to withstand any weather. The breathable polyester material and adjustable cuffs keep you comfortable, whether you're ascending a mountain or strolling through a park. And its sleek black color adds style to function. The jacket features a full-zip front closure, adjustable hood, and secure zippered pockets. Experience the comfort of its inner lining and the convenience of its packable design. Crafted for night trekkers too, the jacket has reflective accents for enhanced visibility. Rugged yet chic, the Summit Breeze Jacket is more than a hiking essential, it's the gear that inspires you to reach new heights. Choose adventure, choose the Summit Breeze Jacket.\",\n",
       "   'url': '/products/summit-breeze-jacket'},\n",
       "  {'id': '17',\n",
       "   'title': 'RainGuard Hiking Jacket',\n",
       "   'content': \"Introducing the MountainStyle RainGuard Hiking Jacket - the ultimate solution for weatherproof comfort during your outdoor undertakings! Designed with waterproof, breathable fabric, this jacket promises an outdoor experience that's as dry as it is comfortable. The rugged construction assures durability, while the adjustable hood provides a customizable fit against wind and rain. Featuring multiple pockets for safe, convenient storage and adjustable cuffs and hem, you can tailor the jacket to suit your needs on-the-go. And, don't worry about overheating during intense activities - it's equipped with ventilation zippers for increased airflow. Reflective details ensure visibility even during low-light conditions, making it perfect for evening treks. With its lightweight, packable design, carrying it inside your backpack requires minimal effort. With options for men and women, the RainGuard Hiking Jacket is perfect for hiking, camping, trekking and countless other outdoor adventures. Don't let the weather stand in your way - embrace the outdoors with MountainStyle RainGuard Hiking Jacket!\",\n",
       "   'url': '/products/rainguard-hiking-jacket'}]}"
      ]
     },
     "execution_count": 8,
     "metadata": {},
     "output_type": "execute_result"
    }
   ],
   "source": [
    "output"
   ]
  },
  {
   "cell_type": "markdown",
   "metadata": {},
   "source": [
    "Test the groundedness of the prompt flow with the answer from the above question."
   ]
  },
  {
   "cell_type": "code",
   "execution_count": 9,
   "metadata": {},
   "outputs": [
    {
     "name": "stdout",
     "output_type": "stream",
     "text": [
      "2023-12-01 14:11:01 -0600   25660 execution.flow     INFO     Start to run 2 nodes with concurrency level 16.\n",
      "2023-12-01 14:11:01 -0600   25660 execution.flow     INFO     Executing node groundedness_score. node run id: 56c91bc8-e4ad-47c1-9a16-499ff2accd24_groundedness_score_0\n",
      "2023-12-01 14:11:02 -0600   25660 execution.flow     INFO     Node groundedness_score completes.\n",
      "2023-12-01 14:11:02 -0600   25660 execution.flow     INFO     Executing node concat_scores. node run id: 56c91bc8-e4ad-47c1-9a16-499ff2accd24_concat_scores_0\n",
      "2023-12-01 14:11:02 -0600   25660 execution.flow     INFO     Node concat_scores completes.\n",
      "2023-12-01 14:11:02 -0600   25660 execution.flow     INFO     Start to run 1 nodes with concurrency level 16.\n",
      "2023-12-01 14:11:02 -0600   25660 execution.flow     INFO     Executing node aggregate_variants_results. node run id: d72dfa8a-8e06-4503-ba06-ceee66b25c8d_aggregate_variants_results_reduce\n",
      "2023-12-01 14:11:02 -0600   25660 execution.flow     INFO     Node aggregate_variants_results completes.\n"
     ]
    }
   ],
   "source": [
    "test = pf_client.test(\n",
    "    \"groundedness\",\n",
    "    inputs={\n",
    "        \"question\": question,\n",
    "        \"context\": str(output[\"context\"]),\n",
    "        \"answer\": output[\"answer\"],\n",
    "    },\n",
    ")"
   ]
  },
  {
   "cell_type": "code",
   "execution_count": 10,
   "metadata": {},
   "outputs": [
    {
     "data": {
      "text/plain": [
       "{'gpt_groundedness': 5.0}"
      ]
     },
     "execution_count": 10,
     "metadata": {},
     "output_type": "execute_result"
    }
   ],
   "source": [
    "test"
   ]
  },
  {
   "cell_type": "markdown",
   "metadata": {},
   "source": [
    "# Local Evaluation - Multiple Metrics \n",
    "\n",
    "Now use the same prompt flow and test it against the Multi Evaluation flow for groundedness, coherence, fluency, and relevance."
   ]
  },
  {
   "cell_type": "code",
   "execution_count": 11,
   "metadata": {},
   "outputs": [
    {
     "name": "stdout",
     "output_type": "stream",
     "text": [
      "2023-12-01 14:11:06 -0600   25660 execution.flow     INFO     Start to run 8 nodes with concurrency level 16.\n",
      "2023-12-01 14:11:06 -0600   25660 execution.flow     INFO     Executing node coherence_score. node run id: 33e95ae2-a6fd-44e7-bbfa-60ccd739f364_coherence_score_0\n",
      "2023-12-01 14:11:06 -0600   25660 execution.flow     INFO     Executing node fluency_score. node run id: 33e95ae2-a6fd-44e7-bbfa-60ccd739f364_fluency_score_0\n",
      "2023-12-01 14:11:06 -0600   25660 execution.flow     INFO     Executing node groundedness_score. node run id: 33e95ae2-a6fd-44e7-bbfa-60ccd739f364_groundedness_score_0\n",
      "2023-12-01 14:11:06 -0600   25660 execution.flow     INFO     Executing node relevance_score. node run id: 33e95ae2-a6fd-44e7-bbfa-60ccd739f364_relevance_score_0\n",
      "2023-12-01 14:11:08 -0600   25660 execution.flow     INFO     Node groundedness_score completes.\n",
      "2023-12-01 14:11:08 -0600   25660 execution.flow     INFO     Node relevance_score completes.\n",
      "2023-12-01 14:11:08 -0600   25660 execution.flow     INFO     Executing node groundedness_concat_scores. node run id: 33e95ae2-a6fd-44e7-bbfa-60ccd739f364_groundedness_concat_scores_0\n",
      "2023-12-01 14:11:08 -0600   25660 execution.flow     INFO     Executing node relevance_concat_scores. node run id: 33e95ae2-a6fd-44e7-bbfa-60ccd739f364_relevance_concat_scores_0\n",
      "2023-12-01 14:11:08 -0600   25660 execution.flow     INFO     Node groundedness_concat_scores completes.\n",
      "2023-12-01 14:11:08 -0600   25660 execution.flow     INFO     Node relevance_concat_scores completes.\n",
      "2023-12-01 14:11:08 -0600   25660 execution.flow     INFO     Node coherence_score completes.\n",
      "2023-12-01 14:11:08 -0600   25660 execution.flow     INFO     Executing node coherence_concat_scores. node run id: 33e95ae2-a6fd-44e7-bbfa-60ccd739f364_coherence_concat_scores_0\n",
      "2023-12-01 14:11:08 -0600   25660 execution.flow     INFO     Node fluency_score completes.\n",
      "2023-12-01 14:11:08 -0600   25660 execution.flow     INFO     Executing node fluency_concat_scores. node run id: 33e95ae2-a6fd-44e7-bbfa-60ccd739f364_fluency_concat_scores_0\n",
      "2023-12-01 14:11:08 -0600   25660 execution.flow     INFO     Node coherence_concat_scores completes.\n",
      "2023-12-01 14:11:08 -0600   25660 execution.flow     INFO     Node fluency_concat_scores completes.\n",
      "2023-12-01 14:11:08 -0600   25660 execution.flow     INFO     Start to run 4 nodes with concurrency level 16.\n",
      "2023-12-01 14:11:08 -0600   25660 execution.flow     INFO     Executing node coherence_aggregate_variants_results. node run id: 6bb40734-da4e-4bea-8ee5-5bd47d9b13ec_coherence_aggregate_variants_results_reduce\n",
      "2023-12-01 14:11:08 -0600   25660 execution.flow     INFO     Executing node fluency_aggregate_variants_results. node run id: 6bb40734-da4e-4bea-8ee5-5bd47d9b13ec_fluency_aggregate_variants_results_reduce\n",
      "2023-12-01 14:11:08 -0600   25660 execution.flow     INFO     Executing node groundedness_aggregate_variants_results. node run id: 6bb40734-da4e-4bea-8ee5-5bd47d9b13ec_groundedness_aggregate_variants_results_reduce\n",
      "2023-12-01 14:11:08 -0600   25660 execution.flow     INFO     Node coherence_aggregate_variants_results completes.\n",
      "2023-12-01 14:11:08 -0600   25660 execution.flow     INFO     Executing node relevance_aggregate_variants_results. node run id: 6bb40734-da4e-4bea-8ee5-5bd47d9b13ec_relevance_aggregate_variants_results_reduce\n",
      "2023-12-01 14:11:08 -0600   25660 execution.flow     INFO     Node fluency_aggregate_variants_results completes.\n",
      "2023-12-01 14:11:08 -0600   25660 execution.flow     INFO     Node groundedness_aggregate_variants_results completes.\n",
      "2023-12-01 14:11:08 -0600   25660 execution.flow     INFO     Node relevance_aggregate_variants_results completes.\n"
     ]
    }
   ],
   "source": [
    "test_multi = pf_client.test(\n",
    "    \"multi_flow\",\n",
    "    inputs={\n",
    "        \"question\": question,\n",
    "        \"context\": str(output[\"context\"]),\n",
    "        \"answer\": output[\"answer\"],\n",
    "    },\n",
    ")"
   ]
  },
  {
   "cell_type": "code",
   "execution_count": 12,
   "metadata": {},
   "outputs": [
    {
     "data": {
      "text/plain": [
       "{'gpt_coherence': 5.0,\n",
       " 'gpt_fluency': 5.0,\n",
       " 'gpt_groundedness': 5.0,\n",
       " 'gpt_relevance': 5.0}"
      ]
     },
     "execution_count": 12,
     "metadata": {},
     "output_type": "execute_result"
    }
   ],
   "source": [
    "test_multi"
   ]
  },
  {
   "cell_type": "markdown",
   "metadata": {},
   "source": [
    "# AI Studio Azure batch run on an evaluation json dataset\n",
    "\n",
    "Now in order to test these more thoroughly, we can use the Azure AI Studio to run batches of test data with the evaluation prompt flow on a larger dataset."
   ]
  },
  {
   "cell_type": "code",
   "execution_count": 13,
   "metadata": {},
   "outputs": [],
   "source": [
    "import json\n",
    "# Import required libraries\n",
    "from promptflow.azure import PFClient\n",
    "\n",
    "# Import required libraries\n",
    "from azure.identity import DefaultAzureCredential, InteractiveBrowserCredential"
   ]
  },
  {
   "cell_type": "code",
   "execution_count": 14,
   "metadata": {},
   "outputs": [],
   "source": [
    "try:\n",
    "    credential = DefaultAzureCredential()\n",
    "    # Check if given credential can get token successfully.\n",
    "    credential.get_token(\"https://management.azure.com/.default\")\n",
    "except Exception as ex:\n",
    "    # Fall back to InteractiveBrowserCredential in case DefaultAzureCredential not work\n",
    "    credential = InteractiveBrowserCredential()"
   ]
  },
  {
   "cell_type": "markdown",
   "metadata": {},
   "source": [
    "Populate the `config.json` file with the subscription_id, resource_group, and workspace_name."
   ]
  },
  {
   "cell_type": "code",
   "execution_count": 15,
   "metadata": {},
   "outputs": [
    {
     "name": "stderr",
     "output_type": "stream",
     "text": [
      "Found the config file in: ..\\config.json\n"
     ]
    }
   ],
   "source": [
    "config_path = \"../config.json\"\n",
    "pf_azure_client = PFClient.from_config(credential=credential, path=config_path)"
   ]
  },
  {
   "cell_type": "markdown",
   "metadata": {},
   "source": [
    "Add the runtime from the AI Studio that will be used for the cloud batch runs."
   ]
  },
  {
   "cell_type": "code",
   "execution_count": 16,
   "metadata": {},
   "outputs": [],
   "source": [
    "# Update the runtime to the name of the runtime you created previously\n",
    "runtime = \"contoso-retail-runtime\"\n",
    "# load flow\n",
    "flow = \"../\"\n",
    "# load data\n",
    "data = \"../data/testdata.jsonl\""
   ]
  },
  {
   "cell_type": "code",
   "execution_count": 18,
   "metadata": {},
   "outputs": [
    {
     "name": "stdout",
     "output_type": "stream",
     "text": [
      "2023_12_01_141144_base_run\n"
     ]
    }
   ],
   "source": [
    "# get current time stamp for run name\n",
    "import datetime\n",
    "now = datetime.datetime.now()\n",
    "timestamp = now.strftime(\"%Y_%m_%d_%H%M%S\")\n",
    "run_name = timestamp+\"_base_run\"\n",
    "print(run_name)"
   ]
  },
  {
   "cell_type": "markdown",
   "metadata": {},
   "source": [
    "Create a base run to use as the variant for the evaluation runs. \n",
    "\n",
    "_NOTE: If you get \"'An existing connection was forcibly closed by the remote host'\" run the cell again._"
   ]
  },
  {
   "cell_type": "code",
   "execution_count": 19,
   "metadata": {},
   "outputs": [
    {
     "name": "stderr",
     "output_type": "stream",
     "text": [
      "\u001b[32mUploading contoso-chat (0.19 MBs): 100%|##########| 193234/193234 [00:04<00:00, 43111.52it/s]\n",
      "\u001b[39m\n",
      "\n"
     ]
    },
    {
     "ename": "FlowRequestException",
     "evalue": "Calling submit_bulk_run failed with request id: 6252f36b-b3c7-4aea-a43a-03d718f3473f \nStatus code: 404 \nReason: Flow runtime contoso-retail-runtime not found \nError message: (UserError) Flow runtime contoso-retail-runtime not found\nCode: UserError\nMessage: Flow runtime contoso-retail-runtime not found \n",
     "output_type": "error",
     "traceback": [
      "\u001b[1;31m---------------------------------------------------------------------------\u001b[0m",
      "\u001b[1;31mResourceNotFoundError\u001b[0m                     Traceback (most recent call last)",
      "File \u001b[1;32mc:\\Users\\cassieb\\AppData\\Local\\anaconda3\\envs\\pfmain\\lib\\site-packages\\promptflow\\azure\\_restclient\\flow_service_caller.py:58\u001b[0m, in \u001b[0;36m_request_wrapper.<locals>.exception_wrapper.<locals>.wrapper\u001b[1;34m(self, *args, **kwargs)\u001b[0m\n\u001b[0;32m     57\u001b[0m \u001b[38;5;28;01mtry\u001b[39;00m:\n\u001b[1;32m---> 58\u001b[0m     \u001b[38;5;28;01mreturn\u001b[39;00m func(\u001b[38;5;28mself\u001b[39m, \u001b[38;5;241m*\u001b[39margs, \u001b[38;5;241m*\u001b[39m\u001b[38;5;241m*\u001b[39mkwargs)\n\u001b[0;32m     59\u001b[0m \u001b[38;5;28;01mexcept\u001b[39;00m HttpResponseError \u001b[38;5;28;01mas\u001b[39;00m e:\n",
      "File \u001b[1;32mc:\\Users\\cassieb\\AppData\\Local\\anaconda3\\envs\\pfmain\\lib\\site-packages\\promptflow\\azure\\_restclient\\flow_service_caller.py:416\u001b[0m, in \u001b[0;36mFlowServiceCaller.submit_bulk_run\u001b[1;34m(self, subscription_id, resource_group_name, workspace_name, body, **kwargs)\u001b[0m\n\u001b[0;32m    415\u001b[0m \u001b[38;5;28mself\u001b[39m\u001b[38;5;241m.\u001b[39m_set_headers_with_user_aml_token(headers)\n\u001b[1;32m--> 416\u001b[0m \u001b[38;5;28;01mreturn\u001b[39;00m \u001b[38;5;28mself\u001b[39m\u001b[38;5;241m.\u001b[39mcaller\u001b[38;5;241m.\u001b[39mbulk_runs\u001b[38;5;241m.\u001b[39msubmit_bulk_run(\n\u001b[0;32m    417\u001b[0m         subscription_id\u001b[38;5;241m=\u001b[39msubscription_id,\n\u001b[0;32m    418\u001b[0m         resource_group_name\u001b[38;5;241m=\u001b[39mresource_group_name,\n\u001b[0;32m    419\u001b[0m         workspace_name\u001b[38;5;241m=\u001b[39mworkspace_name,\n\u001b[0;32m    420\u001b[0m         headers\u001b[38;5;241m=\u001b[39mheaders,\n\u001b[0;32m    421\u001b[0m         body\u001b[38;5;241m=\u001b[39mbody,\n\u001b[0;32m    422\u001b[0m         \u001b[38;5;241m*\u001b[39m\u001b[38;5;241m*\u001b[39mkwargs\n\u001b[0;32m    423\u001b[0m     )\n",
      "File \u001b[1;32mc:\\Users\\cassieb\\AppData\\Local\\anaconda3\\envs\\pfmain\\lib\\site-packages\\azure\\core\\tracing\\decorator.py:78\u001b[0m, in \u001b[0;36mdistributed_trace.<locals>.decorator.<locals>.wrapper_use_tracer\u001b[1;34m(*args, **kwargs)\u001b[0m\n\u001b[0;32m     77\u001b[0m \u001b[38;5;28;01mif\u001b[39;00m span_impl_type \u001b[38;5;129;01mis\u001b[39;00m \u001b[38;5;28;01mNone\u001b[39;00m:\n\u001b[1;32m---> 78\u001b[0m     \u001b[38;5;28;01mreturn\u001b[39;00m func(\u001b[38;5;241m*\u001b[39margs, \u001b[38;5;241m*\u001b[39m\u001b[38;5;241m*\u001b[39mkwargs)\n\u001b[0;32m     80\u001b[0m \u001b[38;5;66;03m# Merge span is parameter is set, but only if no explicit parent are passed\u001b[39;00m\n",
      "File \u001b[1;32mc:\\Users\\cassieb\\AppData\\Local\\anaconda3\\envs\\pfmain\\lib\\site-packages\\promptflow\\azure\\_restclient\\flow\\operations\\_bulk_runs_operations.py:368\u001b[0m, in \u001b[0;36mBulkRunsOperations.submit_bulk_run\u001b[1;34m(self, subscription_id, resource_group_name, workspace_name, body, **kwargs)\u001b[0m\n\u001b[0;32m    367\u001b[0m \u001b[38;5;28;01mif\u001b[39;00m response\u001b[38;5;241m.\u001b[39mstatus_code \u001b[38;5;129;01mnot\u001b[39;00m \u001b[38;5;129;01min\u001b[39;00m [\u001b[38;5;241m200\u001b[39m, \u001b[38;5;241m202\u001b[39m, \u001b[38;5;241m204\u001b[39m]:\n\u001b[1;32m--> 368\u001b[0m     \u001b[43mmap_error\u001b[49m\u001b[43m(\u001b[49m\u001b[43mstatus_code\u001b[49m\u001b[38;5;241;43m=\u001b[39;49m\u001b[43mresponse\u001b[49m\u001b[38;5;241;43m.\u001b[39;49m\u001b[43mstatus_code\u001b[49m\u001b[43m,\u001b[49m\u001b[43m \u001b[49m\u001b[43mresponse\u001b[49m\u001b[38;5;241;43m=\u001b[39;49m\u001b[43mresponse\u001b[49m\u001b[43m,\u001b[49m\u001b[43m \u001b[49m\u001b[43merror_map\u001b[49m\u001b[38;5;241;43m=\u001b[39;49m\u001b[43merror_map\u001b[49m\u001b[43m)\u001b[49m\n\u001b[0;32m    369\u001b[0m     error \u001b[38;5;241m=\u001b[39m \u001b[38;5;28mself\u001b[39m\u001b[38;5;241m.\u001b[39m_deserialize\u001b[38;5;241m.\u001b[39mfailsafe_deserialize(_models\u001b[38;5;241m.\u001b[39mErrorResponse, pipeline_response)\n",
      "File \u001b[1;32mc:\\Users\\cassieb\\AppData\\Local\\anaconda3\\envs\\pfmain\\lib\\site-packages\\azure\\core\\exceptions.py:165\u001b[0m, in \u001b[0;36mmap_error\u001b[1;34m(status_code, response, error_map)\u001b[0m\n\u001b[0;32m    164\u001b[0m error \u001b[38;5;241m=\u001b[39m error_type(response\u001b[38;5;241m=\u001b[39mresponse)\n\u001b[1;32m--> 165\u001b[0m \u001b[38;5;28;01mraise\u001b[39;00m error\n",
      "\u001b[1;31mResourceNotFoundError\u001b[0m: (UserError) Flow runtime contoso-retail-runtime not found\nCode: UserError\nMessage: Flow runtime contoso-retail-runtime not found",
      "\nDuring handling of the above exception, another exception occurred:\n",
      "\u001b[1;31mFlowRequestException\u001b[0m                      Traceback (most recent call last)",
      "Cell \u001b[1;32mIn[19], line 2\u001b[0m\n\u001b[0;32m      1\u001b[0m \u001b[38;5;66;03m# create base run in Azure Ai Studio\u001b[39;00m\n\u001b[1;32m----> 2\u001b[0m base_run \u001b[38;5;241m=\u001b[39m \u001b[43mpf_azure_client\u001b[49m\u001b[38;5;241;43m.\u001b[39;49m\u001b[43mrun\u001b[49m\u001b[43m(\u001b[49m\n\u001b[0;32m      3\u001b[0m \u001b[43m    \u001b[49m\u001b[43mflow\u001b[49m\u001b[38;5;241;43m=\u001b[39;49m\u001b[43mflow\u001b[49m\u001b[43m,\u001b[49m\n\u001b[0;32m      4\u001b[0m \u001b[43m    \u001b[49m\u001b[43mdata\u001b[49m\u001b[38;5;241;43m=\u001b[39;49m\u001b[43mdata\u001b[49m\u001b[43m,\u001b[49m\n\u001b[0;32m      5\u001b[0m \u001b[43m    \u001b[49m\u001b[43mcolumn_mapping\u001b[49m\u001b[38;5;241;43m=\u001b[39;49m\u001b[43m{\u001b[49m\n\u001b[0;32m      6\u001b[0m \u001b[43m        \u001b[49m\u001b[38;5;66;43;03m# reference data\u001b[39;49;00m\n\u001b[0;32m      7\u001b[0m \u001b[43m        \u001b[49m\u001b[38;5;124;43m\"\u001b[39;49m\u001b[38;5;124;43mcustomerId\u001b[39;49m\u001b[38;5;124;43m\"\u001b[39;49m\u001b[43m:\u001b[49m\u001b[43m \u001b[49m\u001b[38;5;124;43m\"\u001b[39;49m\u001b[38;5;124;43m$\u001b[39;49m\u001b[38;5;132;43;01m{data.customerId}\u001b[39;49;00m\u001b[38;5;124;43m\"\u001b[39;49m\u001b[43m,\u001b[49m\n\u001b[0;32m      8\u001b[0m \u001b[43m        \u001b[49m\u001b[38;5;124;43m\"\u001b[39;49m\u001b[38;5;124;43mquestion\u001b[39;49m\u001b[38;5;124;43m\"\u001b[39;49m\u001b[43m:\u001b[49m\u001b[43m \u001b[49m\u001b[38;5;124;43m\"\u001b[39;49m\u001b[38;5;124;43m$\u001b[39;49m\u001b[38;5;132;43;01m{data.question}\u001b[39;49;00m\u001b[38;5;124;43m\"\u001b[39;49m\u001b[43m,\u001b[49m\n\u001b[0;32m      9\u001b[0m \u001b[43m    \u001b[49m\u001b[43m}\u001b[49m\u001b[43m,\u001b[49m\n\u001b[0;32m     10\u001b[0m \u001b[43m    \u001b[49m\u001b[43mruntime\u001b[49m\u001b[38;5;241;43m=\u001b[39;49m\u001b[43mruntime\u001b[49m\u001b[43m,\u001b[49m\n\u001b[0;32m     11\u001b[0m \u001b[43m    \u001b[49m\u001b[38;5;66;43;03m# create a display name as current datetime\u001b[39;49;00m\n\u001b[0;32m     12\u001b[0m \u001b[43m    \u001b[49m\u001b[43mdisplay_name\u001b[49m\u001b[38;5;241;43m=\u001b[39;49m\u001b[43mrun_name\u001b[49m\u001b[43m,\u001b[49m\n\u001b[0;32m     13\u001b[0m \u001b[43m    \u001b[49m\u001b[43mname\u001b[49m\u001b[38;5;241;43m=\u001b[39;49m\u001b[43mrun_name\u001b[49m\n\u001b[0;32m     14\u001b[0m \u001b[43m)\u001b[49m\n\u001b[0;32m     15\u001b[0m \u001b[38;5;28mprint\u001b[39m(base_run)\n",
      "File \u001b[1;32mc:\\Users\\cassieb\\AppData\\Local\\anaconda3\\envs\\pfmain\\lib\\site-packages\\promptflow\\azure\\_pf_client.py:258\u001b[0m, in \u001b[0;36mPFClient.run\u001b[1;34m(self, flow, data, run, column_mapping, variant, connections, environment_variables, name, display_name, tags, **kwargs)\u001b[0m\n\u001b[0;32m    244\u001b[0m     \u001b[38;5;28;01mraise\u001b[39;00m \u001b[38;5;167;01mValueError\u001b[39;00m(\u001b[38;5;124m\"\u001b[39m\u001b[38;5;124mat least one of data or run must be provided\u001b[39m\u001b[38;5;124m\"\u001b[39m)\n\u001b[0;32m    246\u001b[0m run \u001b[38;5;241m=\u001b[39m Run(\n\u001b[0;32m    247\u001b[0m     name\u001b[38;5;241m=\u001b[39mname,\n\u001b[0;32m    248\u001b[0m     display_name\u001b[38;5;241m=\u001b[39mdisplay_name,\n\u001b[1;32m   (...)\u001b[0m\n\u001b[0;32m    256\u001b[0m     environment_variables\u001b[38;5;241m=\u001b[39menvironment_variables,\n\u001b[0;32m    257\u001b[0m )\n\u001b[1;32m--> 258\u001b[0m \u001b[38;5;28;01mreturn\u001b[39;00m \u001b[38;5;28mself\u001b[39m\u001b[38;5;241m.\u001b[39mruns\u001b[38;5;241m.\u001b[39mcreate_or_update(run\u001b[38;5;241m=\u001b[39mrun, \u001b[38;5;241m*\u001b[39m\u001b[38;5;241m*\u001b[39mkwargs)\n",
      "File \u001b[1;32mc:\\Users\\cassieb\\AppData\\Local\\anaconda3\\envs\\pfmain\\lib\\site-packages\\promptflow\\_telemetry\\activity.py:138\u001b[0m, in \u001b[0;36mmonitor_operation.<locals>.monitor.<locals>.wrapper\u001b[1;34m(self, *args, **kwargs)\u001b[0m\n\u001b[0;32m    135\u001b[0m custom_dimensions\u001b[38;5;241m.\u001b[39mupdate(extract_telemetry_info(\u001b[38;5;28mself\u001b[39m))\n\u001b[0;32m    137\u001b[0m \u001b[38;5;28;01mwith\u001b[39;00m log_activity(logger, activity_name, activity_type, custom_dimensions):\n\u001b[1;32m--> 138\u001b[0m     \u001b[38;5;28;01mreturn\u001b[39;00m f(\u001b[38;5;28mself\u001b[39m, \u001b[38;5;241m*\u001b[39margs, \u001b[38;5;241m*\u001b[39m\u001b[38;5;241m*\u001b[39mkwargs)\n",
      "File \u001b[1;32mc:\\Users\\cassieb\\AppData\\Local\\anaconda3\\envs\\pfmain\\lib\\site-packages\\promptflow\\azure\\operations\\_run_operations.py:226\u001b[0m, in \u001b[0;36mRunOperations.create_or_update\u001b[1;34m(self, run, **kwargs)\u001b[0m\n\u001b[0;32m    222\u001b[0m reset \u001b[38;5;241m=\u001b[39m kwargs\u001b[38;5;241m.\u001b[39mpop(\u001b[38;5;124m\"\u001b[39m\u001b[38;5;124mreset_runtime\u001b[39m\u001b[38;5;124m\"\u001b[39m, \u001b[38;5;28;01mFalse\u001b[39;00m)\n\u001b[0;32m    224\u001b[0m rest_obj \u001b[38;5;241m=\u001b[39m \u001b[38;5;28mself\u001b[39m\u001b[38;5;241m.\u001b[39m_resolve_dependencies_in_parallel(run\u001b[38;5;241m=\u001b[39mrun, runtime\u001b[38;5;241m=\u001b[39mkwargs\u001b[38;5;241m.\u001b[39mget(\u001b[38;5;124m\"\u001b[39m\u001b[38;5;124mruntime\u001b[39m\u001b[38;5;124m\"\u001b[39m), reset\u001b[38;5;241m=\u001b[39mreset)\n\u001b[1;32m--> 226\u001b[0m \u001b[38;5;28;43mself\u001b[39;49m\u001b[38;5;241;43m.\u001b[39;49m\u001b[43m_service_caller\u001b[49m\u001b[38;5;241;43m.\u001b[39;49m\u001b[43msubmit_bulk_run\u001b[49m\u001b[43m(\u001b[49m\n\u001b[0;32m    227\u001b[0m \u001b[43m    \u001b[49m\u001b[43msubscription_id\u001b[49m\u001b[38;5;241;43m=\u001b[39;49m\u001b[38;5;28;43mself\u001b[39;49m\u001b[38;5;241;43m.\u001b[39;49m\u001b[43m_operation_scope\u001b[49m\u001b[38;5;241;43m.\u001b[39;49m\u001b[43msubscription_id\u001b[49m\u001b[43m,\u001b[49m\n\u001b[0;32m    228\u001b[0m \u001b[43m    \u001b[49m\u001b[43mresource_group_name\u001b[49m\u001b[38;5;241;43m=\u001b[39;49m\u001b[38;5;28;43mself\u001b[39;49m\u001b[38;5;241;43m.\u001b[39;49m\u001b[43m_operation_scope\u001b[49m\u001b[38;5;241;43m.\u001b[39;49m\u001b[43mresource_group_name\u001b[49m\u001b[43m,\u001b[49m\n\u001b[0;32m    229\u001b[0m \u001b[43m    \u001b[49m\u001b[43mworkspace_name\u001b[49m\u001b[38;5;241;43m=\u001b[39;49m\u001b[38;5;28;43mself\u001b[39;49m\u001b[38;5;241;43m.\u001b[39;49m\u001b[43m_operation_scope\u001b[49m\u001b[38;5;241;43m.\u001b[39;49m\u001b[43mworkspace_name\u001b[49m\u001b[43m,\u001b[49m\n\u001b[0;32m    230\u001b[0m \u001b[43m    \u001b[49m\u001b[43mbody\u001b[49m\u001b[38;5;241;43m=\u001b[39;49m\u001b[43mrest_obj\u001b[49m\u001b[43m,\u001b[49m\n\u001b[0;32m    231\u001b[0m \u001b[43m\u001b[49m\u001b[43m)\u001b[49m\n\u001b[0;32m    232\u001b[0m \u001b[38;5;28;01mif\u001b[39;00m in_jupyter_notebook():\n\u001b[0;32m    233\u001b[0m     \u001b[38;5;28mprint\u001b[39m(\u001b[38;5;124mf\u001b[39m\u001b[38;5;124m\"\u001b[39m\u001b[38;5;124mPortal url: \u001b[39m\u001b[38;5;132;01m{\u001b[39;00m\u001b[38;5;28mself\u001b[39m\u001b[38;5;241m.\u001b[39m_get_run_portal_url(run_id\u001b[38;5;241m=\u001b[39mrun\u001b[38;5;241m.\u001b[39mname)\u001b[38;5;132;01m}\u001b[39;00m\u001b[38;5;124m\"\u001b[39m)\n",
      "File \u001b[1;32mc:\\Users\\cassieb\\AppData\\Local\\anaconda3\\envs\\pfmain\\lib\\site-packages\\promptflow\\azure\\_restclient\\flow_service_caller.py:60\u001b[0m, in \u001b[0;36m_request_wrapper.<locals>.exception_wrapper.<locals>.wrapper\u001b[1;34m(self, *args, **kwargs)\u001b[0m\n\u001b[0;32m     58\u001b[0m     \u001b[38;5;28;01mreturn\u001b[39;00m func(\u001b[38;5;28mself\u001b[39m, \u001b[38;5;241m*\u001b[39margs, \u001b[38;5;241m*\u001b[39m\u001b[38;5;241m*\u001b[39mkwargs)\n\u001b[0;32m     59\u001b[0m \u001b[38;5;28;01mexcept\u001b[39;00m HttpResponseError \u001b[38;5;28;01mas\u001b[39;00m e:\n\u001b[1;32m---> 60\u001b[0m     \u001b[38;5;28;01mraise\u001b[39;00m FlowRequestException(\n\u001b[0;32m     61\u001b[0m         \u001b[38;5;124mf\u001b[39m\u001b[38;5;124m\"\u001b[39m\u001b[38;5;124mCalling \u001b[39m\u001b[38;5;132;01m{\u001b[39;00mfunc\u001b[38;5;241m.\u001b[39m\u001b[38;5;18m__name__\u001b[39m\u001b[38;5;132;01m}\u001b[39;00m\u001b[38;5;124m failed with request id: \u001b[39m\u001b[38;5;132;01m{\u001b[39;00m\u001b[38;5;28mself\u001b[39m\u001b[38;5;241m.\u001b[39m_request_id\u001b[38;5;132;01m}\u001b[39;00m\u001b[38;5;124m \u001b[39m\u001b[38;5;130;01m\\n\u001b[39;00m\u001b[38;5;124m\"\u001b[39m\n\u001b[0;32m     62\u001b[0m         \u001b[38;5;124mf\u001b[39m\u001b[38;5;124m\"\u001b[39m\u001b[38;5;124mStatus code: \u001b[39m\u001b[38;5;132;01m{\u001b[39;00me\u001b[38;5;241m.\u001b[39mstatus_code\u001b[38;5;132;01m}\u001b[39;00m\u001b[38;5;124m \u001b[39m\u001b[38;5;130;01m\\n\u001b[39;00m\u001b[38;5;124m\"\u001b[39m\n\u001b[0;32m     63\u001b[0m         \u001b[38;5;124mf\u001b[39m\u001b[38;5;124m\"\u001b[39m\u001b[38;5;124mReason: \u001b[39m\u001b[38;5;132;01m{\u001b[39;00me\u001b[38;5;241m.\u001b[39mreason\u001b[38;5;132;01m}\u001b[39;00m\u001b[38;5;124m \u001b[39m\u001b[38;5;130;01m\\n\u001b[39;00m\u001b[38;5;124m\"\u001b[39m\n\u001b[0;32m     64\u001b[0m         \u001b[38;5;124mf\u001b[39m\u001b[38;5;124m\"\u001b[39m\u001b[38;5;124mError message: \u001b[39m\u001b[38;5;132;01m{\u001b[39;00me\u001b[38;5;241m.\u001b[39mmessage\u001b[38;5;132;01m}\u001b[39;00m\u001b[38;5;124m \u001b[39m\u001b[38;5;130;01m\\n\u001b[39;00m\u001b[38;5;124m\"\u001b[39m\n\u001b[0;32m     65\u001b[0m     )\n",
      "\u001b[1;31mFlowRequestException\u001b[0m: Calling submit_bulk_run failed with request id: 6252f36b-b3c7-4aea-a43a-03d718f3473f \nStatus code: 404 \nReason: Flow runtime contoso-retail-runtime not found \nError message: (UserError) Flow runtime contoso-retail-runtime not found\nCode: UserError\nMessage: Flow runtime contoso-retail-runtime not found \n"
     ]
    }
   ],
   "source": [
    "# create base run in Azure Ai Studio\n",
    "base_run = pf_azure_client.run(\n",
    "    flow=flow,\n",
    "    data=data,\n",
    "    column_mapping={\n",
    "        # reference data\n",
    "        \"customerId\": \"${data.customerId}\",\n",
    "        \"question\": \"${data.question}\",\n",
    "    },\n",
    "    runtime=runtime,\n",
    "    # create a display name as current datetime\n",
    "    display_name=run_name,\n",
    "    name=run_name\n",
    ")\n",
    "print(base_run)"
   ]
  },
  {
   "cell_type": "code",
   "execution_count": null,
   "metadata": {},
   "outputs": [],
   "source": [
    "pf_azure_client.stream(base_run)"
   ]
  },
  {
   "cell_type": "code",
   "execution_count": null,
   "metadata": {},
   "outputs": [],
   "source": [
    "details = pf_azure_client.get_details(base_run)\n",
    "details.head(10)"
   ]
  },
  {
   "cell_type": "markdown",
   "metadata": {},
   "source": [
    "# Cloud Eval run on Json Data"
   ]
  },
  {
   "cell_type": "code",
   "execution_count": null,
   "metadata": {},
   "outputs": [],
   "source": [
    "eval_flow = \"multi_flow/\"\n",
    "data = \"../data/testdata.jsonl\"\n",
    "run_name = timestamp+\"_eval_run\"\n",
    "print(run_name)\n",
    "\n",
    "eval_run_variant = pf_azure_client.run(\n",
    "    flow=eval_flow,\n",
    "    data=data,  # path to the data file\n",
    "    run=base_run,  # use run as the variant\n",
    "    column_mapping={\n",
    "        # reference data\n",
    "        \"customerId\": \"${data.customerId}\",\n",
    "        \"question\": \"${data.question}\",\n",
    "        \"context\": \"${run.outputs.context}\",\n",
    "        # reference the run's output\n",
    "        \"answer\": \"${run.outputs.answer}\",\n",
    "    },\n",
    "    runtime=runtime,\n",
    "    display_name=run_name,\n",
    "    name=run_name\n",
    ")"
   ]
  },
  {
   "cell_type": "code",
   "execution_count": null,
   "metadata": {},
   "outputs": [],
   "source": [
    "pf_azure_client.stream(eval_run_variant)"
   ]
  },
  {
   "cell_type": "code",
   "execution_count": null,
   "metadata": {},
   "outputs": [],
   "source": [
    "details = pf_azure_client.get_details(eval_run_variant)\n",
    "details.head(10)"
   ]
  },
  {
   "cell_type": "code",
   "execution_count": null,
   "metadata": {},
   "outputs": [],
   "source": [
    "\n",
    "metrics = pf_azure_client.get_metrics(eval_run_variant)\n",
    "print(json.dumps(metrics, indent=4))"
   ]
  },
  {
   "cell_type": "code",
   "execution_count": null,
   "metadata": {},
   "outputs": [],
   "source": [
    "pf_azure_client.visualize([base_run, eval_run_variant])"
   ]
  },
  {
   "cell_type": "markdown",
   "metadata": {},
   "source": []
  },
  {
   "cell_type": "markdown",
   "metadata": {},
   "source": []
  }
 ],
 "metadata": {
  "kernelspec": {
   "display_name": ".venv",
   "language": "python",
   "name": "python3"
  },
  "language_info": {
   "codemirror_mode": {
    "name": "ipython",
    "version": 3
   },
   "file_extension": ".py",
   "mimetype": "text/x-python",
   "name": "python",
   "nbconvert_exporter": "python",
   "pygments_lexer": "ipython3",
   "version": "3.9.18"
  }
 },
 "nbformat": 4,
 "nbformat_minor": 2
}
