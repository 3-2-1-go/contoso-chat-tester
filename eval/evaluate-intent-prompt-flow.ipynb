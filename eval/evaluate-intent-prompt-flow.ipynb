{
 "cells": [
  {
   "cell_type": "markdown",
   "metadata": {},
   "source": [
    "# Local Evaluation - Groundedness\n",
    "\n",
    "After you have setup and configured the prompt flow, its time to evaluation its performance. Here we can use the prompt flow SDK to test different questions and see how the prompt flow performs using the evaluation prompt flows provided."
   ]
  },
  {
   "cell_type": "code",
   "execution_count": 15,
   "metadata": {},
   "outputs": [
    {
     "data": {
      "text/plain": [
       "True"
      ]
     },
     "execution_count": 15,
     "metadata": {},
     "output_type": "execute_result"
    }
   ],
   "source": [
    "from promptflow import PFClient\n",
    "pf_client = PFClient()\n",
    "\n",
    "from dotenv import load_dotenv\n",
    "\n",
    "from pathlib import Path\n",
    "load_dotenv(Path(\"../local.env\"))"
   ]
  },
  {
   "cell_type": "code",
   "execution_count": 16,
   "metadata": {},
   "outputs": [
    {
     "name": "stderr",
     "output_type": "stream",
     "text": [
      "[2024-01-03 18:28:38,251][promptflow][WARNING] - Unknown input(s) of flow: {'customerId': '4'}\n"
     ]
    },
    {
     "name": "stderr",
     "output_type": "stream",
     "text": [
      "[2024-01-03 18:28:38,262][promptflow.contracts.tool][WARNING] - Failed to check if list[str] is a custom strong type: issubclass() arg 1 must be a class\n",
      "[2024-01-03 18:28:38,273][promptflow._sdk.entities._connection][WARNING] - Please use connection.secrets[key] to access secrets.\n",
      "[2024-01-03 18:28:38,273][promptflow._sdk.entities._connection][WARNING] - Please use connection.secrets[key] to access secrets.\n",
      "[2024-01-03 18:28:38,288][promptflow.contracts.tool][WARNING] - Failed to check if list[str] is a custom strong type: issubclass() arg 1 must be a class\n"
     ]
    },
    {
     "name": "stdout",
     "output_type": "stream",
     "text": [
      "2024-01-03 18:28:38 -0600   11880 execution.flow     INFO     Start executing nodes in thread pool mode.\n",
      "2024-01-03 18:28:38 -0600   11880 execution.flow     INFO     Start to run 3 nodes with concurrency level 16.\n",
      "2024-01-03 18:28:38 -0600   11880 execution.flow     INFO     Executing node classify_intent_prompt. node run id: 87274ab2-a061-4eaf-8b81-6804cae16576_classify_intent_prompt_0\n",
      "2024-01-03 18:28:38 -0600   11880 execution.flow     INFO     Node classify_intent_prompt completes.\n",
      "2024-01-03 18:28:38 -0600   11880 execution.flow     INFO     Executing node classify_intent_llm. node run id: 87274ab2-a061-4eaf-8b81-6804cae16576_classify_intent_llm_0\n",
      "2024-01-03 18:28:39 -0600   11880 execution.flow     INFO     Node classify_intent_llm completes.\n",
      "2024-01-03 18:28:39 -0600   11880 execution.flow     INFO     Executing node run_chat_or_support. node run id: 87274ab2-a061-4eaf-8b81-6804cae16576_run_chat_or_support_0\n",
      "2024-01-03 18:28:39 -0600   11880 execution.flow     INFO     [run_chat_or_support in line 0 (index starts from 0)] stdout> running support flow\n",
      "2024-01-03 18:28:41 -0600   11880 execution.flow     INFO     [run_chat_or_support in line 0 (index starts from 0)] stdout> b'{\"answer\":\"Hi Emily! To wash the Summit Breeze Jacket you purchased, machine wash it on a gentle cycle with cold water and air dry. Avoid using bleach or fabric softeners. Happy hiking! \\\\ud83e\\\\uddfc\\\\ud83c\\\\udf3f\\\\n\\\\nReference: # Information about product item_number: 3\",\"citations\":[{\"content\":\"# Information about product item_number: 17\\\\n\\\\nRainGuard Hiking Jacket, price $110,\\\\n\\\\n\\\\n\\\\nWear appropriate layers underneath the jacket based on the weather conditions.\\\\nAdjust the hood, cuffs, and hem to achieve a snug and comfortable fit.\\\\nUtilize the pockets for storing small items such as keys, wallet, or a mobile phone.\\\\nIf needed, open the ventilation zippers to regulate airflow and prevent overheating.\\\\nBe mindful of the jacket\\'s limitations in extreme weather conditions.\\\\n\\\\nCare and Maintenance\\\\n   To ensure the longevity and performance of your RainGuard Hiking Jacket, please adhere to the following care instructions:\\\\n\\\\nClean the jacket as needed following the manufacturer\\'s recommendations.\\\\nUse mild detergent and cold water for washing. Do not use bleach or harsh chemicals.\\\\nRinse the jacket thoroughly and allow it to air dry. Do not tumble dry.\\\\nStore the jacket in a cool, dry place when not in use.\\\\nRegularly inspect the jacket for any signs of damage and repair or replace as necessary.\",\"id\":\"251\"},{\"content\":\"# Information about product item_number: 3\\\\n\\\\nSummit Breeze Jacket, price $120,\\\\n\\\\n\\\\n\\\\nDo not use harsh chemicals: Avoid using harsh chemicals, solvents, or bleach when cleaning the Summit Breeze Jacket. These substances can damage the fabric, zippers, or other components of the jacket. Instead, follow the recommended care instructions provided in the user manual.\\\\n\\\\nDo not store the jacket when wet or damp: Before storing the jacket, ensure that it is completely dry. Storing the jacket when wet or damp can lead to the growth of mold, mildew, and unpleasant odors. Hang it up or lay it flat in a well-ventilated area until it is fully dry.\\\\n\\\\nAvoid excessive abrasion or friction: While the Summit Breeze Jacket is designed to be durable, excessive rubbing or friction against rough surfaces can cause premature wear or damage. Avoid continuous contact with abrasive materials to maintain the jacket\\'s integrity.\",\"id\":\"90\"},{\"content\":\"# Information about product item_number: 17\\\\n\\\\nRainGuard Hiking Jacket, price $110,\\\\n\\\\n\\\\n\\\\n76) Is the RainGuard Hiking Jacket true to size?\\\\n   Generally, the RainGuard Hiking Jacket fits true to size. However, it is advised to refer to the sizing chart provided by the manufacturer to ensure the best fit.\\\\n\\\\n77) Can the RainGuard Hiking Jacket be packed into its pocket for storage?\\\\n   Yes, the RainGuard Hiking Jacket can be packed into one of its zippered pockets, making it compact and easy to carry when not in use.\\\\n\\\\n78) How do I clean the RainGuard Hiking Jacket?\\\\n   To clean the RainGuard Hiking Jacket, machine wash it on a gentle cycle using cold water and mild detergent, then hang it to dry. Do not use bleach, fabric softeners, or dry cleaning, as they may damage the jacket\\'s performance.\",\"id\":\"260\"},{\"content\":\"# Information about product item_number: 3\\\\n\\\\nSummit Breeze Jacket, price $120,\\\\n\\\\n\\\\n\\\\n12) Are there any special care instructions for the Summit Breeze Jacket?\\\\n   To maintain the Summit Breeze Jacket, machine wash on a gentle cycle with cold water and air dry. Do not use bleach or fabric softeners.\\\\n\\\\n13) Does the Summit Breeze Jacket have any reflective elements for visibility?\\\\n   Yes, the Summit Breeze Jacket features reflective accents to help improve visibility in low-light conditions.\\\\n\\\\n14) Are the Summit Breeze Jacket\\'s cuffs adjustable for a better fit?\\\\n   Yes, the Summit Breeze Jacket has Velcro-adjustable cuffs to ensure a secure and comfortable fit.\\\\n\\\\n15) How breathable is the Summit Breeze Jacket during high-intensity activities?\\\\n   The Summit Breeze Jacket is made of a breathable polyester material, which allows moisture to escape while maintaining wind and water resistance.\",\"id\":\"97\"},{\"content\":\"# Information about product item_number: 17\\\\n\\\\nRainGuard Hiking Jacket, price $110,\\\\n\\\\n\\\\n\\\\nDo not expose to open flames or high heat: The RainGuard Hiking Jacket is not flame-resistant. Keep it away from open flames, campfires, and other high-heat sources to prevent damage.\\\\n\\\\nDo not store when wet: Always ensure the jacket is completely dry before storing it. Storing it while damp or wet can lead to mold, mildew, and unpleasant odors.\\\\n\\\\nDo not overload pockets: While the jacket has multiple pockets for storage, avoid overloading them with heavy or bulky items. Excessive weight in the pockets may strain the fabric or affect the jacket\\'s fit.\\\\n\\\\nDo not iron: Ironing the RainGuard Hiking Jacket can damage the fabric and its waterproof coating. If necessary, use a gentle heat setting or follow the manufacturer\\'s instructions.\\\\n\\\\nDo not make alterations: Avoid making any alterations or modifications to the jacket, such as cutting or sewing, as it may compromise its integrity and performance.\",\"id\":\"253\"},{\"content\":\"# Information about product item_number: 16\\\\n\\\\nTrailLite Daypack, price $60,\\\\n\\\\n\\\\n\\\\n73) How do I clean and maintain the TrailLite Daypack?\\\\n   To clean the TrailLite Daypack, simply hand wash it with mild soap and water, then air dry it away from direct sunlight. Avoid using bleach or machine washing to preserve the backpack\\'s durability.\\\\n\\\\n74) Can the TrailLite Daypack be used for daily commuting?\\\\n   While the TrailLite Daypack is designed primarily for outdoor activities, its multiple compartments, comfortable design, and hydration compatibility make it suitable for daily commuting as well.\",\"id\":\"195\"}],\"context\":{\"citations\":[{\"content\":\"# Information about product item_number: 17\\\\n\\\\nRainGuard Hiking Jacket, price $110,\\\\n\\\\n\\\\n\\\\nWear appropriate layers underneath the jacket based on the weather conditions.\\\\nAdjust the hood, cuffs, and hem to achieve a snug and comfortable fit.\\\\nUtilize the pockets for storing small items such as keys, wallet, or a mobile phone.\\\\nIf needed, open the ventilation zippers to regulate airflow and prevent overheating.\\\\nBe mindful of the jacket\\'s limitations in extreme weather conditions.\\\\n\\\\nCare and Maintenance\\\\n   To ensure the longevity and performance of your RainGuard Hiking Jacket, please adhere to the following care instructions:\\\\n\\\\nClean the jacket as needed following the manufacturer\\'s recommendations.\\\\nUse mild detergent and cold water for washing. Do not use bleach or harsh chemicals.\\\\nRinse the jacket thoroughly and allow it to air dry. Do not tumble dry.\\\\nStore the jacket in a cool, dry place when not in use.\\\\nRegularly inspect the jacket for any signs of damage and repair or replace as necessary.\",\"id\":\"251\"},{\"content\":\"# Information about product item_number: 3\\\\n\\\\nSummit Breeze Jacket, price $120,\\\\n\\\\n\\\\n\\\\nDo not use harsh chemicals: Avoid using harsh chemicals, solvents, or bleach when cleaning the Summit Breeze Jacket. These substances can damage the fabric, zippers, or other components of the jacket. Instead, follow the recommended care instructions provided in the user manual.\\\\n\\\\nDo not store the jacket when wet or damp: Before storing the jacket, ensure that it is completely dry. Storing the jacket when wet or damp can lead to the growth of mold, mildew, and unpleasant odors. Hang it up or lay it flat in a well-ventilated area until it is fully dry.\\\\n\\\\nAvoid excessive abrasion or friction: While the Summit Breeze Jacket is designed to be durable, excessive rubbing or friction against rough surfaces can cause premature wear or damage. Avoid continuous contact with abrasive materials to maintain the jacket\\'s integrity.\",\"id\":\"90\"},{\"content\":\"# Information about product item_number: 17\\\\n\\\\nRainGuard Hiking Jacket, price $110,\\\\n\\\\n\\\\n\\\\n76) Is the RainGuard Hiking Jacket true to size?\\\\n   Generally, the RainGuard Hiking Jacket fits true to size. However, it is advised to refer to the sizing chart provided by the manufacturer to ensure the best fit.\\\\n\\\\n77) Can the RainGuard Hiking Jacket be packed into its pocket for storage?\\\\n   Yes, the RainGuard Hiking Jacket can be packed into one of its zippered pockets, making it compact and easy to carry when not in use.\\\\n\\\\n78) How do I clean the RainGuard Hiking Jacket?\\\\n   To clean the RainGuard Hiking Jacket, machine wash it on a gentle cycle using cold water and mild detergent, then hang it to dry. Do not use bleach, fabric softeners, or dry cleaning, as they may damage the jacket\\'s performance.\",\"id\":\"260\"},{\"content\":\"# Information about product item_number: 3\\\\n\\\\nSummit Breeze Jacket, price $120,\\\\n\\\\n\\\\n\\\\n12) Are there any special care instructions for the Summit Breeze Jacket?\\\\n   To maintain the Summit Breeze Jacket, machine wash on a gentle cycle with cold water and air dry. Do not use bleach or fabric softeners.\\\\n\\\\n13) Does the Summit Breeze Jacket have any reflective elements for visibility?\\\\n   Yes, the Summit Breeze Jacket features reflective accents to help improve visibility in low-light conditions.\\\\n\\\\n14) Are the Summit Breeze Jacket\\'s cuffs adjustable for a better fit?\\\\n   Yes, the Summit Breeze Jacket has Velcro-adjustable cuffs to ensure a secure and comfortable fit.\\\\n\\\\n15) How breathable is the Summit Breeze Jacket during high-intensity activities?\\\\n   The Summit Breeze Jacket is made of a breathable polyester material, which allows moisture to escape while maintaining wind and water resistance.\",\"id\":\"97\"},{\"content\":\"# Information about product item_number: 17\\\\n\\\\nRainGuard Hiking Jacket, price $110,\\\\n\\\\n\\\\n\\\\nDo not expose to open flames or high heat: The RainGuard Hiking Jacket is not flame-resistant. Keep it away from open flames, campfires, and other high-heat sources to prevent damage.\\\\n\\\\nDo not store when wet: Always ensure the jacket is completely dry before storing it. Storing it while damp or wet can lead to mold, mildew, and unpleasant odors.\\\\n\\\\nDo not overload pockets: While the jacket has multiple pockets for storage, avoid overloading them with heavy or bulky items. Excessive weight in the pockets may strain the fabric or affect the jacket\\'s fit.\\\\n\\\\nDo not iron: Ironing the RainGuard Hiking Jacket can damage the fabric and its waterproof coating. If necessary, use a gentle heat setting or follow the manufacturer\\'s instructions.\\\\n\\\\nDo not make alterations: Avoid making any alterations or modifications to the jacket, such as cutting or sewing, as it may compromise its integrity and performance.\",\"id\":\"253\"},{\"content\":\"# Information about product item_number: 16\\\\n\\\\nTrailLite Daypack, price $60,\\\\n\\\\n\\\\n\\\\n73) How do I clean and maintain the TrailLite Daypack?\\\\n   To clean the TrailLite Daypack, simply hand wash it with mild soap and water, then air dry it away from direct sunlight. Avoid using bleach or machine washing to preserve the backpack\\'s durability.\\\\n\\\\n74) Can the TrailLite Daypack be used for daily commuting?\\\\n   While the TrailLite Daypack is designed primarily for outdoor activities, its multiple compartments, comfortable design, and hydration compatibility make it suitable for daily commuting as well.\",\"id\":\"195\"}],\"customer_data\":{\"_attachments\":\"attachments/\",\"_etag\":\"\\\\\"01006efd-0000-0100-0000-653c64140000\\\\\"\",\"_rid\":\"JjtiAM6RO-gGAAAAAAAAAA==\",\"_self\":\"dbs/JjtiAA==/colls/JjtiAM6RO-g=/docs/JjtiAM6RO-gGAAAAAAAAAA==/\",\"_ts\":1698456596,\"address\":\"987 Oak Ave,  Cityville USA, 56789\",\"age\":29,\"email\":\"emilyr@example.com\",\"firstName\":\"Emily\",\"id\":\"6\",\"lastName\":\"Rodriguez\",\"membership\":\"nan\",\"orders\":[{\"brand\":\"TrekReady\",\"category\":\"Hiking Footwear\",\"date\":\"3/30/2023\",\"description\":\"Meet the TrekReady TrailWalker Hiking Shoes, the ideal companion for all your outdoor adventures. Constructed with synthetic leather and breathable mesh, these shoes are tough as nails yet surprisingly airy. Their cushioned insoles offer fabulous comfort for long hikes, while the supportive midsoles and traction outsoles with multidirectional lugs ensure stability and excellent grip. A quick-lace system, padded collar and tongue, and reflective accents make these shoes a dream to wear. From combating rough terrain with the reinforced toe cap and heel, to keeping off trail debris with the protective mudguard, the TrailWalker Hiking Shoes have you covered. These waterproof warriors are made to endure all weather conditions. But they\\'re not just about being rugged, they\\'re light as a feather too, minimizing fatigue during epic hikes. Each pair can be customized for a perfect fit with removable insoles and availability in multiple sizes and widths. Navigate hikes comfortably and confidently with the TrailWalker Hiking Shoes. Adventure, here you come!\",\"id\":39,\"name\":\"TrailWalker Hiking Shoes\",\"productId\":11,\"quantity\":2,\"total\":220.0,\"unitprice\":110.0},{\"brand\":\"OutdoorLiving\",\"category\":\"Tents\",\"date\":\"3/18/2023\",\"description\":\"Unveiling the TrailMaster X4 Tent from OutdoorLiving, your home away from home for your next camping adventure. Crafted from durable polyester, this tent boasts a spacious interior perfect for four occupants. It ensures your dryness under drizzly skies thanks to its water-resistant construction, and the accompanying rainfly adds an extra layer of weather protection. It offers refreshing airflow and bug defence, courtesy of its mesh panels. Accessibility is not an issue with its multiple doors and interior pockets that keep small items tidy. Reflective guy lines grant better visibility at night, and the freestanding design simplifies setup and relocation. With the included carry bag, transporting this convenient abode becomes a breeze. Be it an overnight getaway or a week-long nature escapade, the TrailMaster X4 Tent provides comfort, convenience, and concord with the great outdoors. Comes with a two-year limited warranty to ensure customer satisfaction.\",\"id\":3,\"name\":\"TrailMaster X4 Tent\",\"productId\":1,\"quantity\":3,\"total\":750.0,\"unitprice\":250.0},{\"brand\":\"MountainStyle\",\"category\":\"Hiking Clothing\",\"date\":\"2/20/2023\",\"description\":\"Discover the joy of hiking with MountainStyle\\'s Summit Breeze Jacket. This lightweight jacket is your perfect companion for outdoor adventures. Sporting a trail-ready, windproof design and a water-resistant fabric, it\\'s ready to withstand any weather. The breathable polyester material and adjustable cuffs keep you comfortable, whether you\\'re ascending a mountain or strolling through a park. And its sleek black color adds style to function. The jacket features a full-zip front closure, adjustable hood, and secure zippered pockets. Experience the comfort of its inner lining and the convenience of its packable design. Crafted for night trekkers too, the jacket has reflective accents for enhanced visibility. Rugged yet chic, the Summit Breeze Jacket is more than a hiking essential, it\\'s the gear that inspires you to reach new heights. Choose adventure, choose the Summit Breeze Jacket.\",\"id\":12,\"name\":\"Summit Breeze Jacket\",\"productId\":3,\"quantity\":2,\"total\":240.0,\"unitprice\":120.0}],\"phone\":\"555-111-2222\"}},\"customer_data\":{\"_attachments\":\"attachments/\",\"_etag\":\"\\\\\"01006efd-0000-0100-0000-653c64140000\\\\\"\",\"_rid\":\"JjtiAM6RO-gGAAAAAAAAAA==\",\"_self\":\"dbs/JjtiAA==/colls/JjtiAM6RO-g=/docs/JjtiAM6RO-gGAAAAAAAAAA==/\",\"_ts\":1698456596,\"address\":\"987 Oak Ave,  Cityville USA, 56789\",\"age\":29,\"email\":\"emilyr@example.com\",\"firstName\":\"Emily\",\"id\":\"6\",\"lastName\":\"Rodriguez\",\"membership\":\"nan\",\"orders\":[{\"brand\":\"TrekReady\",\"category\":\"Hiking Footwear\",\"date\":\"3/30/2023\",\"description\":\"Meet the TrekReady TrailWalker Hiking Shoes, the ideal companion for all your outdoor adventures. Constructed with synthetic leather and breathable mesh, these shoes are tough as nails yet surprisingly airy. Their cushioned insoles offer fabulous comfort for long hikes, while the supportive midsoles and traction outsoles with multidirectional lugs ensure stability and excellent grip. A quick-lace system, padded collar and tongue, and reflective accents make these shoes a dream to wear. From combating rough terrain with the reinforced toe cap and heel, to keeping off trail debris with the protective mudguard, the TrailWalker Hiking Shoes have you covered. These waterproof warriors are made to endure all weather conditions. But they\\'re not just about being rugged, they\\'re light as a feather too, minimizing fatigue during epic hikes. Each pair can be customized for a perfect fit with removable insoles and availability in multiple sizes and widths. Navigate hikes comfortably and confidently with the TrailWalker Hiking Shoes. Adventure, here you come!\",\"id\":39,\"name\":\"TrailWalker Hiking Shoes\",\"productId\":11,\"quantity\":2,\"total\":220.0,\"unitprice\":110.0},{\"brand\":\"OutdoorLiving\",\"category\":\"Tents\",\"date\":\"3/18/2023\",\"description\":\"Unveiling the TrailMaster X4 Tent from OutdoorLiving, your home away from home for your next camping adventure. Crafted from durable polyester, this tent boasts a spacious interior perfect for four occupants. It ensures your dryness under drizzly skies thanks to its water-resistant construction, and the accompanying rainfly adds an extra layer of weather protection. It offers refreshing airflow and bug defence, courtesy of its mesh panels. Accessibility is not an issue with its multiple doors and interior pockets that keep small items tidy. Reflective guy lines grant better visibility at night, and the freestanding design simplifies setup and relocation. With the included carry bag, transporting this convenient abode becomes a breeze. Be it an overnight getaway or a week-long nature escapade, the TrailMaster X4 Tent provides comfort, convenience, and concord with the great outdoors. Comes with a two-year limited warranty to ensure customer satisfaction.\",\"id\":3,\"name\":\"TrailMaster X4 Tent\",\"productId\":1,\"quantity\":3,\"total\":750.0,\"unitprice\":250.0},{\"brand\":\"MountainStyle\",\"category\":\"Hiking Clothing\",\"date\":\"2/20/2023\",\"description\":\"Discover the joy of hiking with MountainStyle\\'s Summit Breeze Jacket. This lightweight jacket is your perfect companion for outdoor adventures. Sporting a trail-ready, windproof design and a water-resistant fabric, it\\'s ready to withstand any weather. The breathable polyester material and adjustable cuffs keep you comfortable, whether you\\'re ascending a mountain or strolling through a park. And its sleek black color adds style to function. The jacket features a full-zip front closure, adjustable hood, and secure zippered pockets. Experience the comfort of its inner lining and the convenience of its packable design. Crafted for night trekkers too, the jacket has reflective accents for enhanced visibility. Rugged yet chic, the Summit Breeze Jacket is more than a hiking essential, it\\'s the gear that inspires you to reach new heights. Choose adventure, choose the Summit Breeze Jacket.\",\"id\":12,\"name\":\"Summit Breeze Jacket\",\"productId\":3,\"quantity\":2,\"total\":240.0,\"unitprice\":120.0}],\"phone\":\"555-111-2222\"},\"query_rewrite\":\"The user would like to know how to wash the Summit Breeze Jacket they purchased.\"}\\n'\n",
      "2024-01-03 18:28:41 -0600   11880 execution.flow     INFO     Node run_chat_or_support completes.\n"
     ]
    }
   ],
   "source": [
    "# Add a question to test the base prompt flow.\n",
    "question = \"How do I wash the jacket I purchased?\"\n",
    "customerId = \"4\"\n",
    "output = pf_client.test(\n",
    "    flow=\"../contoso-intent\", # Path to the flow directory\n",
    "    inputs={ # Inputs to the flow\n",
    "        \"chat_history\": [],\n",
    "        \"question\": question,\n",
    "        \"customerId\": customerId,\n",
    "    },\n",
    ")\n",
    "\n",
    "output[\"answer\"] = \"\".join(list(output[\"answer\"]))"
   ]
  },
  {
   "cell_type": "code",
   "execution_count": 17,
   "metadata": {},
   "outputs": [
    {
     "data": {
      "text/plain": [
       "{'answer': '{\"answer\":\"Hi Emily! To wash the Summit Breeze Jacket you purchased, machine wash it on a gentle cycle with cold water and air dry. Avoid using bleach or fabric softeners. Happy hiking! \\\\ud83e\\\\uddfc\\\\ud83c\\\\udf3f\\\\n\\\\nReference: # Information about product item_number: 3\",\"citations\":[{\"content\":\"# Information about product item_number: 17\\\\n\\\\nRainGuard Hiking Jacket, price $110,\\\\n\\\\n\\\\n\\\\nWear appropriate layers underneath the jacket based on the weather conditions.\\\\nAdjust the hood, cuffs, and hem to achieve a snug and comfortable fit.\\\\nUtilize the pockets for storing small items such as keys, wallet, or a mobile phone.\\\\nIf needed, open the ventilation zippers to regulate airflow and prevent overheating.\\\\nBe mindful of the jacket\\'s limitations in extreme weather conditions.\\\\n\\\\nCare and Maintenance\\\\n   To ensure the longevity and performance of your RainGuard Hiking Jacket, please adhere to the following care instructions:\\\\n\\\\nClean the jacket as needed following the manufacturer\\'s recommendations.\\\\nUse mild detergent and cold water for washing. Do not use bleach or harsh chemicals.\\\\nRinse the jacket thoroughly and allow it to air dry. Do not tumble dry.\\\\nStore the jacket in a cool, dry place when not in use.\\\\nRegularly inspect the jacket for any signs of damage and repair or replace as necessary.\",\"id\":\"251\"},{\"content\":\"# Information about product item_number: 3\\\\n\\\\nSummit Breeze Jacket, price $120,\\\\n\\\\n\\\\n\\\\nDo not use harsh chemicals: Avoid using harsh chemicals, solvents, or bleach when cleaning the Summit Breeze Jacket. These substances can damage the fabric, zippers, or other components of the jacket. Instead, follow the recommended care instructions provided in the user manual.\\\\n\\\\nDo not store the jacket when wet or damp: Before storing the jacket, ensure that it is completely dry. Storing the jacket when wet or damp can lead to the growth of mold, mildew, and unpleasant odors. Hang it up or lay it flat in a well-ventilated area until it is fully dry.\\\\n\\\\nAvoid excessive abrasion or friction: While the Summit Breeze Jacket is designed to be durable, excessive rubbing or friction against rough surfaces can cause premature wear or damage. Avoid continuous contact with abrasive materials to maintain the jacket\\'s integrity.\",\"id\":\"90\"},{\"content\":\"# Information about product item_number: 17\\\\n\\\\nRainGuard Hiking Jacket, price $110,\\\\n\\\\n\\\\n\\\\n76) Is the RainGuard Hiking Jacket true to size?\\\\n   Generally, the RainGuard Hiking Jacket fits true to size. However, it is advised to refer to the sizing chart provided by the manufacturer to ensure the best fit.\\\\n\\\\n77) Can the RainGuard Hiking Jacket be packed into its pocket for storage?\\\\n   Yes, the RainGuard Hiking Jacket can be packed into one of its zippered pockets, making it compact and easy to carry when not in use.\\\\n\\\\n78) How do I clean the RainGuard Hiking Jacket?\\\\n   To clean the RainGuard Hiking Jacket, machine wash it on a gentle cycle using cold water and mild detergent, then hang it to dry. Do not use bleach, fabric softeners, or dry cleaning, as they may damage the jacket\\'s performance.\",\"id\":\"260\"},{\"content\":\"# Information about product item_number: 3\\\\n\\\\nSummit Breeze Jacket, price $120,\\\\n\\\\n\\\\n\\\\n12) Are there any special care instructions for the Summit Breeze Jacket?\\\\n   To maintain the Summit Breeze Jacket, machine wash on a gentle cycle with cold water and air dry. Do not use bleach or fabric softeners.\\\\n\\\\n13) Does the Summit Breeze Jacket have any reflective elements for visibility?\\\\n   Yes, the Summit Breeze Jacket features reflective accents to help improve visibility in low-light conditions.\\\\n\\\\n14) Are the Summit Breeze Jacket\\'s cuffs adjustable for a better fit?\\\\n   Yes, the Summit Breeze Jacket has Velcro-adjustable cuffs to ensure a secure and comfortable fit.\\\\n\\\\n15) How breathable is the Summit Breeze Jacket during high-intensity activities?\\\\n   The Summit Breeze Jacket is made of a breathable polyester material, which allows moisture to escape while maintaining wind and water resistance.\",\"id\":\"97\"},{\"content\":\"# Information about product item_number: 17\\\\n\\\\nRainGuard Hiking Jacket, price $110,\\\\n\\\\n\\\\n\\\\nDo not expose to open flames or high heat: The RainGuard Hiking Jacket is not flame-resistant. Keep it away from open flames, campfires, and other high-heat sources to prevent damage.\\\\n\\\\nDo not store when wet: Always ensure the jacket is completely dry before storing it. Storing it while damp or wet can lead to mold, mildew, and unpleasant odors.\\\\n\\\\nDo not overload pockets: While the jacket has multiple pockets for storage, avoid overloading them with heavy or bulky items. Excessive weight in the pockets may strain the fabric or affect the jacket\\'s fit.\\\\n\\\\nDo not iron: Ironing the RainGuard Hiking Jacket can damage the fabric and its waterproof coating. If necessary, use a gentle heat setting or follow the manufacturer\\'s instructions.\\\\n\\\\nDo not make alterations: Avoid making any alterations or modifications to the jacket, such as cutting or sewing, as it may compromise its integrity and performance.\",\"id\":\"253\"},{\"content\":\"# Information about product item_number: 16\\\\n\\\\nTrailLite Daypack, price $60,\\\\n\\\\n\\\\n\\\\n73) How do I clean and maintain the TrailLite Daypack?\\\\n   To clean the TrailLite Daypack, simply hand wash it with mild soap and water, then air dry it away from direct sunlight. Avoid using bleach or machine washing to preserve the backpack\\'s durability.\\\\n\\\\n74) Can the TrailLite Daypack be used for daily commuting?\\\\n   While the TrailLite Daypack is designed primarily for outdoor activities, its multiple compartments, comfortable design, and hydration compatibility make it suitable for daily commuting as well.\",\"id\":\"195\"}],\"context\":{\"citations\":[{\"content\":\"# Information about product item_number: 17\\\\n\\\\nRainGuard Hiking Jacket, price $110,\\\\n\\\\n\\\\n\\\\nWear appropriate layers underneath the jacket based on the weather conditions.\\\\nAdjust the hood, cuffs, and hem to achieve a snug and comfortable fit.\\\\nUtilize the pockets for storing small items such as keys, wallet, or a mobile phone.\\\\nIf needed, open the ventilation zippers to regulate airflow and prevent overheating.\\\\nBe mindful of the jacket\\'s limitations in extreme weather conditions.\\\\n\\\\nCare and Maintenance\\\\n   To ensure the longevity and performance of your RainGuard Hiking Jacket, please adhere to the following care instructions:\\\\n\\\\nClean the jacket as needed following the manufacturer\\'s recommendations.\\\\nUse mild detergent and cold water for washing. Do not use bleach or harsh chemicals.\\\\nRinse the jacket thoroughly and allow it to air dry. Do not tumble dry.\\\\nStore the jacket in a cool, dry place when not in use.\\\\nRegularly inspect the jacket for any signs of damage and repair or replace as necessary.\",\"id\":\"251\"},{\"content\":\"# Information about product item_number: 3\\\\n\\\\nSummit Breeze Jacket, price $120,\\\\n\\\\n\\\\n\\\\nDo not use harsh chemicals: Avoid using harsh chemicals, solvents, or bleach when cleaning the Summit Breeze Jacket. These substances can damage the fabric, zippers, or other components of the jacket. Instead, follow the recommended care instructions provided in the user manual.\\\\n\\\\nDo not store the jacket when wet or damp: Before storing the jacket, ensure that it is completely dry. Storing the jacket when wet or damp can lead to the growth of mold, mildew, and unpleasant odors. Hang it up or lay it flat in a well-ventilated area until it is fully dry.\\\\n\\\\nAvoid excessive abrasion or friction: While the Summit Breeze Jacket is designed to be durable, excessive rubbing or friction against rough surfaces can cause premature wear or damage. Avoid continuous contact with abrasive materials to maintain the jacket\\'s integrity.\",\"id\":\"90\"},{\"content\":\"# Information about product item_number: 17\\\\n\\\\nRainGuard Hiking Jacket, price $110,\\\\n\\\\n\\\\n\\\\n76) Is the RainGuard Hiking Jacket true to size?\\\\n   Generally, the RainGuard Hiking Jacket fits true to size. However, it is advised to refer to the sizing chart provided by the manufacturer to ensure the best fit.\\\\n\\\\n77) Can the RainGuard Hiking Jacket be packed into its pocket for storage?\\\\n   Yes, the RainGuard Hiking Jacket can be packed into one of its zippered pockets, making it compact and easy to carry when not in use.\\\\n\\\\n78) How do I clean the RainGuard Hiking Jacket?\\\\n   To clean the RainGuard Hiking Jacket, machine wash it on a gentle cycle using cold water and mild detergent, then hang it to dry. Do not use bleach, fabric softeners, or dry cleaning, as they may damage the jacket\\'s performance.\",\"id\":\"260\"},{\"content\":\"# Information about product item_number: 3\\\\n\\\\nSummit Breeze Jacket, price $120,\\\\n\\\\n\\\\n\\\\n12) Are there any special care instructions for the Summit Breeze Jacket?\\\\n   To maintain the Summit Breeze Jacket, machine wash on a gentle cycle with cold water and air dry. Do not use bleach or fabric softeners.\\\\n\\\\n13) Does the Summit Breeze Jacket have any reflective elements for visibility?\\\\n   Yes, the Summit Breeze Jacket features reflective accents to help improve visibility in low-light conditions.\\\\n\\\\n14) Are the Summit Breeze Jacket\\'s cuffs adjustable for a better fit?\\\\n   Yes, the Summit Breeze Jacket has Velcro-adjustable cuffs to ensure a secure and comfortable fit.\\\\n\\\\n15) How breathable is the Summit Breeze Jacket during high-intensity activities?\\\\n   The Summit Breeze Jacket is made of a breathable polyester material, which allows moisture to escape while maintaining wind and water resistance.\",\"id\":\"97\"},{\"content\":\"# Information about product item_number: 17\\\\n\\\\nRainGuard Hiking Jacket, price $110,\\\\n\\\\n\\\\n\\\\nDo not expose to open flames or high heat: The RainGuard Hiking Jacket is not flame-resistant. Keep it away from open flames, campfires, and other high-heat sources to prevent damage.\\\\n\\\\nDo not store when wet: Always ensure the jacket is completely dry before storing it. Storing it while damp or wet can lead to mold, mildew, and unpleasant odors.\\\\n\\\\nDo not overload pockets: While the jacket has multiple pockets for storage, avoid overloading them with heavy or bulky items. Excessive weight in the pockets may strain the fabric or affect the jacket\\'s fit.\\\\n\\\\nDo not iron: Ironing the RainGuard Hiking Jacket can damage the fabric and its waterproof coating. If necessary, use a gentle heat setting or follow the manufacturer\\'s instructions.\\\\n\\\\nDo not make alterations: Avoid making any alterations or modifications to the jacket, such as cutting or sewing, as it may compromise its integrity and performance.\",\"id\":\"253\"},{\"content\":\"# Information about product item_number: 16\\\\n\\\\nTrailLite Daypack, price $60,\\\\n\\\\n\\\\n\\\\n73) How do I clean and maintain the TrailLite Daypack?\\\\n   To clean the TrailLite Daypack, simply hand wash it with mild soap and water, then air dry it away from direct sunlight. Avoid using bleach or machine washing to preserve the backpack\\'s durability.\\\\n\\\\n74) Can the TrailLite Daypack be used for daily commuting?\\\\n   While the TrailLite Daypack is designed primarily for outdoor activities, its multiple compartments, comfortable design, and hydration compatibility make it suitable for daily commuting as well.\",\"id\":\"195\"}],\"customer_data\":{\"_attachments\":\"attachments/\",\"_etag\":\"\\\\\"01006efd-0000-0100-0000-653c64140000\\\\\"\",\"_rid\":\"JjtiAM6RO-gGAAAAAAAAAA==\",\"_self\":\"dbs/JjtiAA==/colls/JjtiAM6RO-g=/docs/JjtiAM6RO-gGAAAAAAAAAA==/\",\"_ts\":1698456596,\"address\":\"987 Oak Ave,  Cityville USA, 56789\",\"age\":29,\"email\":\"emilyr@example.com\",\"firstName\":\"Emily\",\"id\":\"6\",\"lastName\":\"Rodriguez\",\"membership\":\"nan\",\"orders\":[{\"brand\":\"TrekReady\",\"category\":\"Hiking Footwear\",\"date\":\"3/30/2023\",\"description\":\"Meet the TrekReady TrailWalker Hiking Shoes, the ideal companion for all your outdoor adventures. Constructed with synthetic leather and breathable mesh, these shoes are tough as nails yet surprisingly airy. Their cushioned insoles offer fabulous comfort for long hikes, while the supportive midsoles and traction outsoles with multidirectional lugs ensure stability and excellent grip. A quick-lace system, padded collar and tongue, and reflective accents make these shoes a dream to wear. From combating rough terrain with the reinforced toe cap and heel, to keeping off trail debris with the protective mudguard, the TrailWalker Hiking Shoes have you covered. These waterproof warriors are made to endure all weather conditions. But they\\'re not just about being rugged, they\\'re light as a feather too, minimizing fatigue during epic hikes. Each pair can be customized for a perfect fit with removable insoles and availability in multiple sizes and widths. Navigate hikes comfortably and confidently with the TrailWalker Hiking Shoes. Adventure, here you come!\",\"id\":39,\"name\":\"TrailWalker Hiking Shoes\",\"productId\":11,\"quantity\":2,\"total\":220.0,\"unitprice\":110.0},{\"brand\":\"OutdoorLiving\",\"category\":\"Tents\",\"date\":\"3/18/2023\",\"description\":\"Unveiling the TrailMaster X4 Tent from OutdoorLiving, your home away from home for your next camping adventure. Crafted from durable polyester, this tent boasts a spacious interior perfect for four occupants. It ensures your dryness under drizzly skies thanks to its water-resistant construction, and the accompanying rainfly adds an extra layer of weather protection. It offers refreshing airflow and bug defence, courtesy of its mesh panels. Accessibility is not an issue with its multiple doors and interior pockets that keep small items tidy. Reflective guy lines grant better visibility at night, and the freestanding design simplifies setup and relocation. With the included carry bag, transporting this convenient abode becomes a breeze. Be it an overnight getaway or a week-long nature escapade, the TrailMaster X4 Tent provides comfort, convenience, and concord with the great outdoors. Comes with a two-year limited warranty to ensure customer satisfaction.\",\"id\":3,\"name\":\"TrailMaster X4 Tent\",\"productId\":1,\"quantity\":3,\"total\":750.0,\"unitprice\":250.0},{\"brand\":\"MountainStyle\",\"category\":\"Hiking Clothing\",\"date\":\"2/20/2023\",\"description\":\"Discover the joy of hiking with MountainStyle\\'s Summit Breeze Jacket. This lightweight jacket is your perfect companion for outdoor adventures. Sporting a trail-ready, windproof design and a water-resistant fabric, it\\'s ready to withstand any weather. The breathable polyester material and adjustable cuffs keep you comfortable, whether you\\'re ascending a mountain or strolling through a park. And its sleek black color adds style to function. The jacket features a full-zip front closure, adjustable hood, and secure zippered pockets. Experience the comfort of its inner lining and the convenience of its packable design. Crafted for night trekkers too, the jacket has reflective accents for enhanced visibility. Rugged yet chic, the Summit Breeze Jacket is more than a hiking essential, it\\'s the gear that inspires you to reach new heights. Choose adventure, choose the Summit Breeze Jacket.\",\"id\":12,\"name\":\"Summit Breeze Jacket\",\"productId\":3,\"quantity\":2,\"total\":240.0,\"unitprice\":120.0}],\"phone\":\"555-111-2222\"}},\"customer_data\":{\"_attachments\":\"attachments/\",\"_etag\":\"\\\\\"01006efd-0000-0100-0000-653c64140000\\\\\"\",\"_rid\":\"JjtiAM6RO-gGAAAAAAAAAA==\",\"_self\":\"dbs/JjtiAA==/colls/JjtiAM6RO-g=/docs/JjtiAM6RO-gGAAAAAAAAAA==/\",\"_ts\":1698456596,\"address\":\"987 Oak Ave,  Cityville USA, 56789\",\"age\":29,\"email\":\"emilyr@example.com\",\"firstName\":\"Emily\",\"id\":\"6\",\"lastName\":\"Rodriguez\",\"membership\":\"nan\",\"orders\":[{\"brand\":\"TrekReady\",\"category\":\"Hiking Footwear\",\"date\":\"3/30/2023\",\"description\":\"Meet the TrekReady TrailWalker Hiking Shoes, the ideal companion for all your outdoor adventures. Constructed with synthetic leather and breathable mesh, these shoes are tough as nails yet surprisingly airy. Their cushioned insoles offer fabulous comfort for long hikes, while the supportive midsoles and traction outsoles with multidirectional lugs ensure stability and excellent grip. A quick-lace system, padded collar and tongue, and reflective accents make these shoes a dream to wear. From combating rough terrain with the reinforced toe cap and heel, to keeping off trail debris with the protective mudguard, the TrailWalker Hiking Shoes have you covered. These waterproof warriors are made to endure all weather conditions. But they\\'re not just about being rugged, they\\'re light as a feather too, minimizing fatigue during epic hikes. Each pair can be customized for a perfect fit with removable insoles and availability in multiple sizes and widths. Navigate hikes comfortably and confidently with the TrailWalker Hiking Shoes. Adventure, here you come!\",\"id\":39,\"name\":\"TrailWalker Hiking Shoes\",\"productId\":11,\"quantity\":2,\"total\":220.0,\"unitprice\":110.0},{\"brand\":\"OutdoorLiving\",\"category\":\"Tents\",\"date\":\"3/18/2023\",\"description\":\"Unveiling the TrailMaster X4 Tent from OutdoorLiving, your home away from home for your next camping adventure. Crafted from durable polyester, this tent boasts a spacious interior perfect for four occupants. It ensures your dryness under drizzly skies thanks to its water-resistant construction, and the accompanying rainfly adds an extra layer of weather protection. It offers refreshing airflow and bug defence, courtesy of its mesh panels. Accessibility is not an issue with its multiple doors and interior pockets that keep small items tidy. Reflective guy lines grant better visibility at night, and the freestanding design simplifies setup and relocation. With the included carry bag, transporting this convenient abode becomes a breeze. Be it an overnight getaway or a week-long nature escapade, the TrailMaster X4 Tent provides comfort, convenience, and concord with the great outdoors. Comes with a two-year limited warranty to ensure customer satisfaction.\",\"id\":3,\"name\":\"TrailMaster X4 Tent\",\"productId\":1,\"quantity\":3,\"total\":750.0,\"unitprice\":250.0},{\"brand\":\"MountainStyle\",\"category\":\"Hiking Clothing\",\"date\":\"2/20/2023\",\"description\":\"Discover the joy of hiking with MountainStyle\\'s Summit Breeze Jacket. This lightweight jacket is your perfect companion for outdoor adventures. Sporting a trail-ready, windproof design and a water-resistant fabric, it\\'s ready to withstand any weather. The breathable polyester material and adjustable cuffs keep you comfortable, whether you\\'re ascending a mountain or strolling through a park. And its sleek black color adds style to function. The jacket features a full-zip front closure, adjustable hood, and secure zippered pockets. Experience the comfort of its inner lining and the convenience of its packable design. Crafted for night trekkers too, the jacket has reflective accents for enhanced visibility. Rugged yet chic, the Summit Breeze Jacket is more than a hiking essential, it\\'s the gear that inspires you to reach new heights. Choose adventure, choose the Summit Breeze Jacket.\",\"id\":12,\"name\":\"Summit Breeze Jacket\",\"productId\":3,\"quantity\":2,\"total\":240.0,\"unitprice\":120.0}],\"phone\":\"555-111-2222\"},\"query_rewrite\":\"The user would like to know how to wash the Summit Breeze Jacket they purchased.\"}\\n',\n",
       " 'intent_context': 'intent: support'}"
      ]
     },
     "execution_count": 17,
     "metadata": {},
     "output_type": "execute_result"
    }
   ],
   "source": [
    "output"
   ]
  },
  {
   "cell_type": "markdown",
   "metadata": {},
   "source": [
    "Test the groundedness of the prompt flow with the answer from the above question."
   ]
  },
  {
   "cell_type": "code",
   "execution_count": 18,
   "metadata": {},
   "outputs": [
    {
     "name": "stderr",
     "output_type": "stream",
     "text": [
      "[2024-01-03 18:28:42,011][promptflow][WARNING] - Unknown input(s) of flow: {'prediction': 'intent: support'}\n"
     ]
    },
    {
     "name": "stdout",
     "output_type": "stream",
     "text": [
      "2024-01-03 18:28:42 -0600   11880 execution.flow     INFO     Start executing nodes in thread pool mode.\n",
      "2024-01-03 18:28:42 -0600   11880 execution.flow     INFO     Start to run 3 nodes with concurrency level 16.\n",
      "2024-01-03 18:28:42 -0600   11880 execution.flow     INFO     Executing node llm_call. node run id: 67e59c6b-1c5c-4e50-b9d9-b37261a3e8f9_llm_call_0\n",
      "2024-01-03 18:28:42 -0600   11880 execution.flow     INFO     Node llm_call completes.\n",
      "2024-01-03 18:28:42 -0600   11880 execution.flow     INFO     Executing node assert_value. node run id: 67e59c6b-1c5c-4e50-b9d9-b37261a3e8f9_assert_value_0\n",
      "2024-01-03 18:28:42 -0600   11880 execution.flow     INFO     Node assert_value completes.\n",
      "2024-01-03 18:28:42 -0600   11880 execution.flow     INFO     Executing node get_accuracy. node run id: 67e59c6b-1c5c-4e50-b9d9-b37261a3e8f9_get_accuracy_0\n",
      "2024-01-03 18:28:42 -0600   11880 execution.flow     INFO     Node get_accuracy completes.\n"
     ]
    }
   ],
   "source": [
    "test = pf_client.test(\n",
    "    flow=\"intent_eval\",\n",
    "    inputs={\n",
    "        \"question\": question,\n",
    "        \"prediction\": str(output[\"intent_context\"]),\n",
    "        \"groundtruth\": \"support\",\n",
    "    },\n",
    ")"
   ]
  },
  {
   "cell_type": "code",
   "execution_count": 19,
   "metadata": {},
   "outputs": [
    {
     "data": {
      "text/plain": [
       "{'results': {'accuracy': 100.0}}"
      ]
     },
     "execution_count": 19,
     "metadata": {},
     "output_type": "execute_result"
    }
   ],
   "source": [
    "test"
   ]
  },
  {
   "cell_type": "markdown",
   "metadata": {},
   "source": [
    "# AI Studio Azure batch run on an evaluation json dataset\n",
    "\n",
    "Now in order to test these more thoroughly, we can use the Azure AI Studio to run batches of test data with the evaluation prompt flow on a larger dataset."
   ]
  },
  {
   "cell_type": "code",
   "execution_count": 12,
   "metadata": {},
   "outputs": [],
   "source": [
    "import json\n",
    "# Import required libraries\n",
    "from promptflow.azure import PFClient\n",
    "\n",
    "# Import required libraries\n",
    "from azure.identity import DefaultAzureCredential, InteractiveBrowserCredential"
   ]
  },
  {
   "cell_type": "code",
   "execution_count": 13,
   "metadata": {},
   "outputs": [],
   "source": [
    "try:\n",
    "    credential = DefaultAzureCredential()\n",
    "    # Check if given credential can get token successfully.\n",
    "    credential.get_token(\"https://management.azure.com/.default\")\n",
    "except Exception as ex:\n",
    "    # Fall back to InteractiveBrowserCredential in case DefaultAzureCredential not work\n",
    "    credential = InteractiveBrowserCredential()"
   ]
  },
  {
   "cell_type": "markdown",
   "metadata": {},
   "source": [
    "Populate the `config.json` file with the subscription_id, resource_group, and workspace_name."
   ]
  },
  {
   "cell_type": "code",
   "execution_count": 14,
   "metadata": {},
   "outputs": [
    {
     "name": "stderr",
     "output_type": "stream",
     "text": [
      "Found the config file in: ..\\config.json\n"
     ]
    }
   ],
   "source": [
    "config_path = \"../config.json\"\n",
    "pf_azure_client = PFClient.from_config(credential=credential, path=config_path)"
   ]
  },
  {
   "cell_type": "markdown",
   "metadata": {},
   "source": [
    "Add the runtime from the AI Studio that will be used for the cloud batch runs."
   ]
  },
  {
   "cell_type": "code",
   "execution_count": 9,
   "metadata": {},
   "outputs": [],
   "source": [
    "# Update the runtime to the name of the runtime you created previously\n",
    "runtime = \"automatic\"\n",
    "# load flow\n",
    "flow = \"../contoso-intent\"\n",
    "# load data\n",
    "data = \"../data/intenttestdata.jsonl\""
   ]
  },
  {
   "cell_type": "code",
   "execution_count": 10,
   "metadata": {},
   "outputs": [
    {
     "name": "stdout",
     "output_type": "stream",
     "text": [
      "2024_01_03_180055_intent_base_run\n"
     ]
    }
   ],
   "source": [
    "# get current time stamp for run name\n",
    "import datetime\n",
    "now = datetime.datetime.now()\n",
    "timestamp = now.strftime(\"%Y_%m_%d_%H%M%S\")\n",
    "run_name = timestamp+\"_intent_base_run\"\n",
    "print(run_name)"
   ]
  },
  {
   "cell_type": "markdown",
   "metadata": {},
   "source": [
    "Create a base run to use as the variant for the evaluation runs. \n",
    "\n",
    "_NOTE: If you get \"'An existing connection was forcibly closed by the remote host'\" run the cell again._"
   ]
  },
  {
   "cell_type": "code",
   "execution_count": 11,
   "metadata": {},
   "outputs": [
    {
     "name": "stderr",
     "output_type": "stream",
     "text": [
      "[2024-01-03 18:00:56,857][promptflow][WARNING] - You're using automatic runtime, if it's first time you're using it, it may take a while to build runtime and request may fail with timeout error. Wait a while and resubmit same flow can successfully start the run.\n",
      "\u001b[32mUploading contoso-intent (0.22 MBs): 100%|##########| 218902/218902 [00:01<00:00, 119108.99it/s]\n",
      "\u001b[39m\n",
      "\n",
      "[2024-01-03 18:01:01,896][promptflow.azure._restclient.flow_service_caller][INFO] - Start polling until session creation is completed...\n",
      "[2024-01-03 18:01:09,029][promptflow.azure._restclient.flow_service_caller][INFO] - Session creation finished with status Succeeded.\n"
     ]
    },
    {
     "ename": "RunOperationParameterError",
     "evalue": "Unsupported workspace kind: 'hub'",
     "output_type": "error",
     "traceback": [
      "\u001b[1;31m---------------------------------------------------------------------------\u001b[0m",
      "\u001b[1;31mRunOperationParameterError\u001b[0m                Traceback (most recent call last)",
      "Cell \u001b[1;32mIn[11], line 2\u001b[0m\n\u001b[0;32m      1\u001b[0m \u001b[38;5;66;03m# create base run in Azure Ai Studio\u001b[39;00m\n\u001b[1;32m----> 2\u001b[0m base_run \u001b[38;5;241m=\u001b[39m \u001b[43mpf_azure_client\u001b[49m\u001b[38;5;241;43m.\u001b[39;49m\u001b[43mrun\u001b[49m\u001b[43m(\u001b[49m\n\u001b[0;32m      3\u001b[0m \u001b[43m    \u001b[49m\u001b[43mflow\u001b[49m\u001b[38;5;241;43m=\u001b[39;49m\u001b[43mflow\u001b[49m\u001b[43m,\u001b[49m\n\u001b[0;32m      4\u001b[0m \u001b[43m    \u001b[49m\u001b[43mdata\u001b[49m\u001b[38;5;241;43m=\u001b[39;49m\u001b[43mdata\u001b[49m\u001b[43m,\u001b[49m\n\u001b[0;32m      5\u001b[0m \u001b[43m    \u001b[49m\u001b[43mcolumn_mapping\u001b[49m\u001b[38;5;241;43m=\u001b[39;49m\u001b[43m{\u001b[49m\n\u001b[0;32m      6\u001b[0m \u001b[43m        \u001b[49m\u001b[38;5;66;43;03m# reference data\u001b[39;49;00m\n\u001b[0;32m      7\u001b[0m \u001b[43m        \u001b[49m\u001b[38;5;124;43m\"\u001b[39;49m\u001b[38;5;124;43mcustomerId\u001b[39;49m\u001b[38;5;124;43m\"\u001b[39;49m\u001b[43m:\u001b[49m\u001b[43m \u001b[49m\u001b[38;5;124;43m\"\u001b[39;49m\u001b[38;5;124;43m$\u001b[39;49m\u001b[38;5;132;43;01m{data.customerId}\u001b[39;49;00m\u001b[38;5;124;43m\"\u001b[39;49m\u001b[43m,\u001b[49m\n\u001b[0;32m      8\u001b[0m \u001b[43m        \u001b[49m\u001b[38;5;124;43m\"\u001b[39;49m\u001b[38;5;124;43mquestion\u001b[39;49m\u001b[38;5;124;43m\"\u001b[39;49m\u001b[43m:\u001b[49m\u001b[43m \u001b[49m\u001b[38;5;124;43m\"\u001b[39;49m\u001b[38;5;124;43m$\u001b[39;49m\u001b[38;5;132;43;01m{data.question}\u001b[39;49;00m\u001b[38;5;124;43m\"\u001b[39;49m\u001b[43m,\u001b[49m\n\u001b[0;32m      9\u001b[0m \u001b[43m    \u001b[49m\u001b[43m}\u001b[49m\u001b[43m,\u001b[49m\n\u001b[0;32m     10\u001b[0m \u001b[43m    \u001b[49m\u001b[43mruntime\u001b[49m\u001b[38;5;241;43m=\u001b[39;49m\u001b[43mruntime\u001b[49m\u001b[43m,\u001b[49m\n\u001b[0;32m     11\u001b[0m \u001b[43m    \u001b[49m\u001b[38;5;66;43;03m# create a display name as current datetime\u001b[39;49;00m\n\u001b[0;32m     12\u001b[0m \u001b[43m    \u001b[49m\u001b[43mdisplay_name\u001b[49m\u001b[38;5;241;43m=\u001b[39;49m\u001b[43mrun_name\u001b[49m\u001b[43m,\u001b[49m\n\u001b[0;32m     13\u001b[0m \u001b[43m    \u001b[49m\u001b[43mname\u001b[49m\u001b[38;5;241;43m=\u001b[39;49m\u001b[43mrun_name\u001b[49m\n\u001b[0;32m     14\u001b[0m \u001b[43m)\u001b[49m\n\u001b[0;32m     15\u001b[0m \u001b[38;5;28mprint\u001b[39m(base_run)\n",
      "File \u001b[1;32mc:\\Users\\cassieb\\AppData\\Local\\anaconda3\\envs\\contoso-chat\\lib\\site-packages\\promptflow\\azure\\_pf_client.py:252\u001b[0m, in \u001b[0;36mPFClient.run\u001b[1;34m(self, flow, data, run, column_mapping, variant, connections, environment_variables, name, display_name, tags, **kwargs)\u001b[0m\n\u001b[0;32m    186\u001b[0m \u001b[38;5;250m\u001b[39m\u001b[38;5;124;03m\"\"\"Run flow against provided data or run.\u001b[39;00m\n\u001b[0;32m    187\u001b[0m \n\u001b[0;32m    188\u001b[0m \u001b[38;5;124;03m.. note:: at least one of data or run must be provided.\u001b[39;00m\n\u001b[1;32m   (...)\u001b[0m\n\u001b[0;32m    238\u001b[0m \u001b[38;5;124;03m:rtype: ~promptflow.entities.Run\u001b[39;00m\n\u001b[0;32m    239\u001b[0m \u001b[38;5;124;03m\"\"\"\u001b[39;00m\n\u001b[0;32m    240\u001b[0m run \u001b[38;5;241m=\u001b[39m Run(\n\u001b[0;32m    241\u001b[0m     name\u001b[38;5;241m=\u001b[39mname,\n\u001b[0;32m    242\u001b[0m     display_name\u001b[38;5;241m=\u001b[39mdisplay_name,\n\u001b[1;32m   (...)\u001b[0m\n\u001b[0;32m    250\u001b[0m     environment_variables\u001b[38;5;241m=\u001b[39menvironment_variables,\n\u001b[0;32m    251\u001b[0m )\n\u001b[1;32m--> 252\u001b[0m \u001b[38;5;28;01mreturn\u001b[39;00m \u001b[38;5;28mself\u001b[39m\u001b[38;5;241m.\u001b[39mruns\u001b[38;5;241m.\u001b[39mcreate_or_update(run\u001b[38;5;241m=\u001b[39mrun, \u001b[38;5;241m*\u001b[39m\u001b[38;5;241m*\u001b[39mkwargs)\n",
      "File \u001b[1;32mc:\\Users\\cassieb\\AppData\\Local\\anaconda3\\envs\\contoso-chat\\lib\\site-packages\\promptflow\\_sdk\\_telemetry\\activity.py:175\u001b[0m, in \u001b[0;36mmonitor_operation.<locals>.monitor.<locals>.wrapper\u001b[1;34m(self, *args, **kwargs)\u001b[0m\n\u001b[0;32m    173\u001b[0m _activity_name \u001b[38;5;241m=\u001b[39m update_activity_name(activity_name, kwargs\u001b[38;5;241m=\u001b[39mkwargs)\n\u001b[0;32m    174\u001b[0m \u001b[38;5;28;01mwith\u001b[39;00m log_activity(logger, _activity_name, activity_type, custom_dimensions):\n\u001b[1;32m--> 175\u001b[0m     \u001b[38;5;28;01mreturn\u001b[39;00m f(\u001b[38;5;28mself\u001b[39m, \u001b[38;5;241m*\u001b[39margs, \u001b[38;5;241m*\u001b[39m\u001b[38;5;241m*\u001b[39mkwargs)\n",
      "File \u001b[1;32mc:\\Users\\cassieb\\AppData\\Local\\anaconda3\\envs\\contoso-chat\\lib\\site-packages\\promptflow\\azure\\operations\\_run_operations.py:245\u001b[0m, in \u001b[0;36mRunOperations.create_or_update\u001b[1;34m(self, run, **kwargs)\u001b[0m\n\u001b[0;32m    238\u001b[0m \u001b[38;5;28mself\u001b[39m\u001b[38;5;241m.\u001b[39m_service_caller\u001b[38;5;241m.\u001b[39msubmit_bulk_run(\n\u001b[0;32m    239\u001b[0m     subscription_id\u001b[38;5;241m=\u001b[39m\u001b[38;5;28mself\u001b[39m\u001b[38;5;241m.\u001b[39m_operation_scope\u001b[38;5;241m.\u001b[39msubscription_id,\n\u001b[0;32m    240\u001b[0m     resource_group_name\u001b[38;5;241m=\u001b[39m\u001b[38;5;28mself\u001b[39m\u001b[38;5;241m.\u001b[39m_operation_scope\u001b[38;5;241m.\u001b[39mresource_group_name,\n\u001b[0;32m    241\u001b[0m     workspace_name\u001b[38;5;241m=\u001b[39m\u001b[38;5;28mself\u001b[39m\u001b[38;5;241m.\u001b[39m_operation_scope\u001b[38;5;241m.\u001b[39mworkspace_name,\n\u001b[0;32m    242\u001b[0m     body\u001b[38;5;241m=\u001b[39mrest_obj,\n\u001b[0;32m    243\u001b[0m )\n\u001b[0;32m    244\u001b[0m \u001b[38;5;28;01mif\u001b[39;00m in_jupyter_notebook():\n\u001b[1;32m--> 245\u001b[0m     \u001b[38;5;28mprint\u001b[39m(\u001b[38;5;124mf\u001b[39m\u001b[38;5;124m\"\u001b[39m\u001b[38;5;124mPortal url: \u001b[39m\u001b[38;5;132;01m{\u001b[39;00m\u001b[38;5;28mself\u001b[39m\u001b[38;5;241m.\u001b[39m_get_run_portal_url(run_id\u001b[38;5;241m=\u001b[39mrun\u001b[38;5;241m.\u001b[39mname)\u001b[38;5;132;01m}\u001b[39;00m\u001b[38;5;124m\"\u001b[39m)\n\u001b[0;32m    246\u001b[0m \u001b[38;5;28;01mif\u001b[39;00m stream:\n\u001b[0;32m    247\u001b[0m     \u001b[38;5;28mself\u001b[39m\u001b[38;5;241m.\u001b[39mstream(run\u001b[38;5;241m=\u001b[39mrun\u001b[38;5;241m.\u001b[39mname)\n",
      "File \u001b[1;32mc:\\Users\\cassieb\\AppData\\Local\\anaconda3\\envs\\contoso-chat\\lib\\site-packages\\promptflow\\azure\\operations\\_run_operations.py:149\u001b[0m, in \u001b[0;36mRunOperations._get_run_portal_url\u001b[1;34m(self, run_id)\u001b[0m\n\u001b[0;32m    144\u001b[0m     \u001b[38;5;28;01mreturn\u001b[39;00m (\n\u001b[0;32m    145\u001b[0m         \u001b[38;5;124mf\u001b[39m\u001b[38;5;124m\"\u001b[39m\u001b[38;5;124mhttps://ai.azure.com/projectflows/bulkrun/run/\u001b[39m\u001b[38;5;132;01m{\u001b[39;00mrun_id\u001b[38;5;132;01m}\u001b[39;00m\u001b[38;5;124m/\u001b[39m\u001b[38;5;124m\"\u001b[39m\n\u001b[0;32m    146\u001b[0m         \u001b[38;5;124mf\u001b[39m\u001b[38;5;124m\"\u001b[39m\u001b[38;5;124mdetails?wsid=\u001b[39m\u001b[38;5;132;01m{\u001b[39;00m\u001b[38;5;28mself\u001b[39m\u001b[38;5;241m.\u001b[39m_service_caller\u001b[38;5;241m.\u001b[39m_common_azure_url_pattern\u001b[38;5;132;01m}\u001b[39;00m\u001b[38;5;124m\"\u001b[39m\n\u001b[0;32m    147\u001b[0m     )\n\u001b[0;32m    148\u001b[0m \u001b[38;5;28;01melse\u001b[39;00m:\n\u001b[1;32m--> 149\u001b[0m     \u001b[38;5;28;01mraise\u001b[39;00m RunOperationParameterError(\u001b[38;5;124mf\u001b[39m\u001b[38;5;124m\"\u001b[39m\u001b[38;5;124mUnsupported workspace kind: \u001b[39m\u001b[38;5;132;01m{\u001b[39;00mworkspace_kind\u001b[38;5;132;01m!r}\u001b[39;00m\u001b[38;5;124m\"\u001b[39m)\n",
      "\u001b[1;31mRunOperationParameterError\u001b[0m: Unsupported workspace kind: 'hub'"
     ]
    }
   ],
   "source": [
    "# create base run in Azure Ai Studio\n",
    "base_run = pf_azure_client.run(\n",
    "    flow=flow,\n",
    "    data=data,\n",
    "    column_mapping={\n",
    "        # reference data\n",
    "        \"customerId\": \"${data.customerId}\",\n",
    "        \"question\": \"${data.question}\",\n",
    "    },\n",
    "    runtime=runtime,\n",
    "    # create a display name as current datetime\n",
    "    display_name=run_name,\n",
    "    name=run_name\n",
    ")\n",
    "print(base_run)"
   ]
  },
  {
   "cell_type": "code",
   "execution_count": null,
   "metadata": {},
   "outputs": [],
   "source": [
    "pf_azure_client.stream(base_run)"
   ]
  },
  {
   "cell_type": "code",
   "execution_count": null,
   "metadata": {},
   "outputs": [],
   "source": [
    "details = pf_azure_client.get_details(base_run)\n",
    "details.head(10)"
   ]
  },
  {
   "cell_type": "markdown",
   "metadata": {},
   "source": [
    "# Cloud Eval run on Json Data"
   ]
  },
  {
   "cell_type": "code",
   "execution_count": null,
   "metadata": {},
   "outputs": [],
   "source": [
    "eval_flow = \"intent_eval/\"\n",
    "run_name = timestamp+\"intent_eval_run\"\n",
    "print(run_name)\n",
    "\n",
    "eval_run_variant = pf_azure_client.run(\n",
    "    flow=eval_flow,\n",
    "    data=data,  # path to the data file\n",
    "    run=base_run,  # use run as the variant\n",
    "    column_mapping={\n",
    "        # reference data\n",
    "        \"question\": \"${data.question}\",\n",
    "        \"groundtruth\": \"${data.intent}\",\n",
    "        \"prediction\": \"${run.intent_context}\",\n",
    "    },\n",
    "    runtime=runtime,\n",
    "    display_name=run_name,\n",
    "    name=run_name\n",
    ")"
   ]
  },
  {
   "cell_type": "code",
   "execution_count": null,
   "metadata": {},
   "outputs": [],
   "source": [
    "pf_azure_client.stream(eval_run_variant)"
   ]
  },
  {
   "cell_type": "code",
   "execution_count": null,
   "metadata": {},
   "outputs": [],
   "source": [
    "details = pf_azure_client.get_details(eval_run_variant)\n",
    "details.head(10)"
   ]
  },
  {
   "cell_type": "code",
   "execution_count": null,
   "metadata": {},
   "outputs": [],
   "source": [
    "\n",
    "metrics = pf_azure_client.get_metrics(eval_run_variant)\n",
    "print(json.dumps(metrics, indent=4))"
   ]
  },
  {
   "cell_type": "code",
   "execution_count": null,
   "metadata": {},
   "outputs": [],
   "source": [
    "pf_azure_client.visualize([base_run, eval_run_variant])"
   ]
  },
  {
   "cell_type": "code",
   "execution_count": null,
   "metadata": {},
   "outputs": [],
   "source": []
  }
 ],
 "metadata": {
  "kernelspec": {
   "display_name": ".venv",
   "language": "python",
   "name": "python3"
  },
  "language_info": {
   "codemirror_mode": {
    "name": "ipython",
    "version": 3
   },
   "file_extension": ".py",
   "mimetype": "text/x-python",
   "name": "python",
   "nbconvert_exporter": "python",
   "pygments_lexer": "ipython3",
   "version": "3.9.18"
  }
 },
 "nbformat": 4,
 "nbformat_minor": 2
}
